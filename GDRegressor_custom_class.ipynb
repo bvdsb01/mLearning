{
  "nbformat": 4,
  "nbformat_minor": 0,
  "metadata": {
    "colab": {
      "provenance": [],
      "authorship_tag": "ABX9TyP9qt6VaSEgHx5SNCLZ4qIA",
      "include_colab_link": true
    },
    "kernelspec": {
      "name": "python3",
      "display_name": "Python 3"
    },
    "language_info": {
      "name": "python"
    }
  },
  "cells": [
    {
      "cell_type": "markdown",
      "metadata": {
        "id": "view-in-github",
        "colab_type": "text"
      },
      "source": [
        "<a href=\"https://colab.research.google.com/github/bvdsb01/mLearning/blob/main/GDRegressor_custom_class.ipynb\" target=\"_parent\"><img src=\"https://colab.research.google.com/assets/colab-badge.svg\" alt=\"Open In Colab\"/></a>"
      ]
    },
    {
      "cell_type": "markdown",
      "source": [
        "# Creating our own class and methods"
      ],
      "metadata": {
        "id": "BRHi7pGDQ-SE"
      }
    },
    {
      "cell_type": "code",
      "execution_count": 1,
      "metadata": {
        "id": "fYrwWITvQfNE"
      },
      "outputs": [],
      "source": [
        "from sklearn.datasets import make_regression\n",
        "import matplotlib.pyplot as plt\n",
        "import numpy as np"
      ]
    },
    {
      "cell_type": "code",
      "source": [
        "X, y = make_regression(n_samples = 100, n_features = 1, n_informative = 1, n_targets = 1, noise = 20)\n",
        "plt.scatter(X,y)"
      ],
      "metadata": {
        "colab": {
          "base_uri": "https://localhost:8080/",
          "height": 447
        },
        "id": "j3-yDuNQQp5i",
        "outputId": "538d16a8-16af-489e-f05a-885c92309671"
      },
      "execution_count": 3,
      "outputs": [
        {
          "output_type": "execute_result",
          "data": {
            "text/plain": [
              "<matplotlib.collections.PathCollection at 0x7a40e008b280>"
            ]
          },
          "metadata": {},
          "execution_count": 3
        },
        {
          "output_type": "display_data",
          "data": {
            "text/plain": [
              "<Figure size 640x480 with 1 Axes>"
            ],
            "image/png": "[encoded data removed]"
          },
          "metadata": {}
        }
      ]
    },
    {
      "cell_type": "code",
      "source": [
        "# scikit ka linear regression class use karke actual result find out kar raha hoon\n",
        "from sklearn.linear_model import LinearRegression\n",
        "reg = LinearRegression()\n",
        "reg.fit(X,y)\n",
        "\n",
        "print(reg.coef_)\n",
        "print(reg.intercept_)\n"
      ],
      "metadata": {
        "colab": {
          "base_uri": "https://localhost:8080/"
        },
        "id": "gVLx4DMDQ1-b",
        "outputId": "bc2412ab-a4c8-4844-fe18-7b60144dc494"
      },
      "execution_count": 8,
      "outputs": [
        {
          "output_type": "stream",
          "name": "stdout",
          "text": [
            "[20.847176]\n",
            "-0.2902534176776379\n"
          ]
        }
      ]
    },
    {
      "cell_type": "code",
      "source": [
        "m = 20.84"
      ],
      "metadata": {
        "id": "DMtQuAkMRVti"
      },
      "execution_count": 9,
      "outputs": []
    },
    {
      "cell_type": "code",
      "source": [
        "class GDRegressor:\n",
        "\n",
        "    def __init__(self, learning_rate, epochs):\n",
        "      self.m = 20.84\n",
        "      self.b = -120\n",
        "      self.lr = learning_rate\n",
        "      self.epochs = epochs\n",
        "\n",
        "    def fit(self,X,y):\n",
        "      # calculate b using GD (gradient descent)\n",
        "      for i in range(self.epochs):\n",
        "          loss_func_slope = (-2) * np.sum(y - self.m*X.ravel() - self.b)\n",
        "          step_size = loss_func_slope * self.lr\n",
        "          self.b = self.b - step_size\n",
        "          print(loss_func_slope, self.b)\n",
        "      print(self.b)\n"
      ],
      "metadata": {
        "id": "4JtLnzE0RtSV"
      },
      "execution_count": 15,
      "outputs": []
    },
    {
      "cell_type": "code",
      "source": [
        "gd = GDRegressor(0.01, 20)\n",
        "gd.fit(X,y)\n",
        "# isse toh zig zag pattern bann raha hai -ve +ve, -ve +ve and so on - so reduce learning rate and increase no.of epochs"
      ],
      "metadata": {
        "colab": {
          "base_uri": "https://localhost:8080/"
        },
        "id": "YOnpLpQnS-YK",
        "outputId": "e1e33b91-eae9-438f-c006-b5a59ac578c7"
      },
      "execution_count": 16,
      "outputs": [
        {
          "output_type": "stream",
          "name": "stdout",
          "text": [
            "-23941.813690736693 119.41813690736694\n",
            "23941.81369073669 -119.99999999999997\n",
            "-23941.81369073669 119.41813690736694\n",
            "23941.81369073669 -119.99999999999997\n",
            "-23941.81369073669 119.41813690736694\n",
            "23941.81369073669 -119.99999999999997\n",
            "-23941.81369073669 119.41813690736694\n",
            "23941.81369073669 -119.99999999999997\n",
            "-23941.81369073669 119.41813690736694\n",
            "23941.81369073669 -119.99999999999997\n",
            "-23941.81369073669 119.41813690736694\n",
            "23941.81369073669 -119.99999999999997\n",
            "-23941.81369073669 119.41813690736694\n",
            "23941.81369073669 -119.99999999999997\n",
            "-23941.81369073669 119.41813690736694\n",
            "23941.81369073669 -119.99999999999997\n",
            "-23941.81369073669 119.41813690736694\n",
            "23941.81369073669 -119.99999999999997\n",
            "-23941.81369073669 119.41813690736694\n",
            "23941.81369073669 -119.99999999999997\n",
            "-119.99999999999997\n"
          ]
        }
      ]
    },
    {
      "cell_type": "code",
      "source": [
        "gd_1 = GDRegressor(0.001, 50)\n",
        "gd_1.fit(X,y)\n",
        "\n",
        "# now at last the value of b is -0.2926400912339755 and the actual answer is -0.2902534176776379"
      ],
      "metadata": {
        "colab": {
          "base_uri": "https://localhost:8080/"
        },
        "id": "_XHdGcP5THDj",
        "outputId": "c9cc7ee8-ec0c-4193-82e9-d5c2cec37349"
      },
      "execution_count": 17,
      "outputs": [
        {
          "output_type": "stream",
          "name": "stdout",
          "text": [
            "-23941.813690736693 -96.0581863092633\n",
            "-19153.450952589366 -76.90473535667394\n",
            "-15322.760762071488 -61.58197459460245\n",
            "-12258.208609657186 -49.32376598494526\n",
            "-9806.566887725747 -39.51719909721952\n",
            "-7845.2535101806025 -31.671945587038916\n",
            "-6276.202808144481 -25.395742778894434\n",
            "-5020.962246515584 -20.37478053237885\n",
            "-4016.769797212468 -16.35801073516638\n",
            "-3213.415837769974 -13.144594897396408\n",
            "-2570.7326702159794 -10.573862227180427\n",
            "-2056.5861361727834 -8.517276091007645\n",
            "-1645.268908938227 -6.872007182069417\n",
            "-1316.2151271505813 -5.555792054918836\n",
            "-1052.9721017204652 -4.502819953198371\n",
            "-842.377681376372 -3.6604422718219984\n",
            "-673.9021451010977 -2.9865401267209006\n",
            "-539.1217160808782 -2.4474184106400223\n",
            "-431.29737286470254 -2.01612103777532\n",
            "-345.03789829176196 -1.671083139483558\n",
            "-276.03031863340937 -1.3950528208501485\n",
            "-220.8242549067275 -1.174228565943421\n",
            "-176.65940392538212 -0.9975691620180389\n",
            "-141.32752314030563 -0.8562416388777333\n",
            "-113.0620185122447 -0.7431796203654886\n",
            "-90.44961480979559 -0.6527300055556929\n",
            "-72.35969184783661 -0.5803703137078563\n",
            "-57.88775347826905 -0.5224825602295873\n",
            "-46.31020278261542 -0.47617235744697184\n",
            "-37.04816222609227 -0.4391241952208796\n",
            "-29.638529780873846 -0.40948566544000575\n",
            "-23.710823824699098 -0.3857748416153067\n",
            "-18.96865905975924 -0.3668061825555474\n",
            "-15.17492724780746 -0.35163125530774\n",
            "-12.139941798245829 -0.33949131350949413\n",
            "-9.711953438596666 -0.3297793600708975\n",
            "-7.769562750877313 -0.32200979732002016\n",
            "-6.2156502007019725 -0.3157941471193182\n",
            "-4.9725201605617 -0.3108216269587565\n",
            "-3.97801612844912 -0.30684361083030737\n",
            "-3.1824129027593244 -0.30366119792754803\n",
            "-2.5459303222074254 -0.30111526760534063\n",
            "-2.0367442577659958 -0.2990785233475746\n",
            "-1.6293954062129146 -0.2974491279413617\n",
            "-1.3035163249703459 -0.29614561161639136\n",
            "-1.042813059976126 -0.29510279855641525\n",
            "-0.8342504479808781 -0.2942685481084344\n",
            "-0.6674003583847465 -0.29360114775004964\n",
            "-0.5339202867079393 -0.2930672274633417\n",
            "-0.4271362293662051 -0.2926400912339755\n",
            "-0.2926400912339755\n"
          ]
        }
      ]
    },
    {
      "cell_type": "code",
      "source": [],
      "metadata": {
        "id": "QOmbQWHXUGIA"
      },
      "execution_count": null,
      "outputs": []
    }
  ]
}