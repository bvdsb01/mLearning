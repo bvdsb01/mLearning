{
  "nbformat": 4,
  "nbformat_minor": 0,
  "metadata": {
    "colab": {
      "provenance": [],
      "authorship_tag": "ABX9TyOL5pjJ1WpKTlFrrIgd++XB",
      "include_colab_link": true
    },
    "kernelspec": {
      "name": "python3",
      "display_name": "Python 3"
    },
    "language_info": {
      "name": "python"
    }
  },
  "cells": [
    {
      "cell_type": "markdown",
      "metadata": {
        "id": "view-in-github",
        "colab_type": "text"
      },
      "source": [
        "<a href=\"https://colab.research.google.com/github/bvdsb01/mLearning/blob/main/KFoldCrossValidation.ipynb\" target=\"_parent\"><img src=\"https://colab.research.google.com/assets/colab-badge.svg\" alt=\"Open In Colab\"/></a>"
      ]
    },
    {
      "cell_type": "code",
      "execution_count": null,
      "metadata": {
        "id": "QmnYKdwErqWk"
      },
      "outputs": [],
      "source": []
    },
    {
      "cell_type": "markdown",
      "source": [
        "# Cross Validation is a technique to evaluate model's performance as there are many models to classify our dataset, e.g. Iris data classification was done using Logistic Regression, SVM, Random Forest, Decision Tree algorithm."
      ],
      "metadata": {
        "id": "n3GlW3uVr6tB"
      }
    },
    {
      "cell_type": "markdown",
      "source": [
        "sample kaise hai usse bahut variation aata hai, training ka sample kaisa hai usse model ke score vary karte hain.\n",
        "\n"
      ],
      "metadata": {
        "id": "1aX4CpYBr8_9"
      }
    },
    {
      "cell_type": "code",
      "source": [
        "from sklearn.linear_model import LogisticRegression\n",
        "from sklearn.svm import SVC\n",
        "from sklearn.ensemble import RandomForestClassifier"
      ],
      "metadata": {
        "id": "Ln2U5cwur7eW"
      },
      "execution_count": 1,
      "outputs": []
    },
    {
      "cell_type": "code",
      "source": [
        "import numpy as np\n",
        "import matplotlib.pyplot as plt"
      ],
      "metadata": {
        "id": "kO4OvdyZr9ZX"
      },
      "execution_count": 2,
      "outputs": []
    },
    {
      "cell_type": "code",
      "source": [
        "from sklearn.datasets import load_digits\n",
        "digits = load_digits()"
      ],
      "metadata": {
        "id": "1wq4rU-4sXQY"
      },
      "execution_count": 3,
      "outputs": []
    },
    {
      "cell_type": "code",
      "source": [
        "from sklearn.model_selection import train_test_split\n",
        "X_train, X_test, y_train, y_test = train_test_split(digits.data, digits.target, test_size = 0.3)\n",
        "#everytime above line of code runs, new train and test samples are created (randomly)"
      ],
      "metadata": {
        "id": "8PZCOAa5sdlT"
      },
      "execution_count": 10,
      "outputs": []
    },
    {
      "cell_type": "markdown",
      "source": [
        "which means hamare samples kaise hai usse bahut variation aata hai, if you re-run above and below cell output will be different.\n",
        "\n",
        "So k-cross validation works like, will run above cell 10 times and what ever the score comes will take averge of them."
      ],
      "metadata": {
        "id": "9e_3GWb3txG0"
      }
    },
    {
      "cell_type": "code",
      "source": [
        "lr = LogisticRegression()\n",
        "lr.fit(X_train, y_train)\n",
        "lr.score(X_test, y_test)"
      ],
      "metadata": {
        "colab": {
          "base_uri": "https://localhost:8080/"
        },
        "id": "iHAdXhRRsw2i",
        "outputId": "bb098d31-efe1-425a-f3f2-a90eebb88fb0"
      },
      "execution_count": 11,
      "outputs": [
        {
          "output_type": "stream",
          "name": "stderr",
          "text": [
            "/usr/local/lib/python3.10/dist-packages/sklearn/linear_model/_logistic.py:458: ConvergenceWarning: lbfgs failed to converge (status=1):\n",
            "STOP: TOTAL NO. of ITERATIONS REACHED LIMIT.\n",
            "\n",
            "Increase the number of iterations (max_iter) or scale the data as shown in:\n",
            "    https://scikit-learn.org/stable/modules/preprocessing.html\n",
            "Please also refer to the documentation for alternative solver options:\n",
            "    https://scikit-learn.org/stable/modules/linear_model.html#logistic-regression\n",
            "  n_iter_i = _check_optimize_result(\n"
          ]
        },
        {
          "output_type": "execute_result",
          "data": {
            "text/plain": [
              "0.9777777777777777"
            ]
          },
          "metadata": {},
          "execution_count": 11
        }
      ]
    },
    {
      "cell_type": "code",
      "source": [
        "svm = SVC()\n",
        "svm.fit(X_train, y_train)\n",
        "svm.score(X_test, y_test)"
      ],
      "metadata": {
        "colab": {
          "base_uri": "https://localhost:8080/"
        },
        "id": "g-96uSHjsuRe",
        "outputId": "ba123019-ef1f-4ac4-c6ee-632200787635"
      },
      "execution_count": 7,
      "outputs": [
        {
          "output_type": "execute_result",
          "data": {
            "text/plain": [
              "0.9907407407407407"
            ]
          },
          "metadata": {},
          "execution_count": 7
        }
      ]
    },
    {
      "cell_type": "code",
      "source": [
        "rf = RandomForestClassifier(n_estimators = 50)\n",
        "rf.fit(X_train, y_train)\n",
        "rf.score(X_test, y_test)"
      ],
      "metadata": {
        "colab": {
          "base_uri": "https://localhost:8080/"
        },
        "id": "2P5PsD-otC6K",
        "outputId": "da150f62-8ae7-4228-ccf6-f548b558d686"
      },
      "execution_count": 9,
      "outputs": [
        {
          "output_type": "execute_result",
          "data": {
            "text/plain": [
              "0.9777777777777777"
            ]
          },
          "metadata": {},
          "execution_count": 9
        }
      ]
    },
    {
      "cell_type": "code",
      "source": [
        "from sklearn.model_selection import KFold\n",
        "kf = KFold(n_splits = 3)  #how many folds\n",
        "kf"
      ],
      "metadata": {
        "colab": {
          "base_uri": "https://localhost:8080/"
        },
        "id": "mUI6R2ButSGo",
        "outputId": "a4822bb4-fa54-42d5-f2b5-bdc2d5df0785"
      },
      "execution_count": 12,
      "outputs": [
        {
          "output_type": "execute_result",
          "data": {
            "text/plain": [
              "KFold(n_splits=3, random_state=None, shuffle=False)"
            ]
          },
          "metadata": {},
          "execution_count": 12
        }
      ]
    },
    {
      "cell_type": "code",
      "source": [
        "kf.split([1,2,3,4,5,6,7,8,9]) #returns a generator"
      ],
      "metadata": {
        "colab": {
          "base_uri": "https://localhost:8080/"
        },
        "id": "8n7OrfPwvZNe",
        "outputId": "c16b0bdc-e49e-4132-de83-aff29be4b69f"
      },
      "execution_count": 13,
      "outputs": [
        {
          "output_type": "execute_result",
          "data": {
            "text/plain": [
              "<generator object _BaseKFold.split at 0x7d111fcd4cf0>"
            ]
          },
          "metadata": {},
          "execution_count": 13
        }
      ]
    },
    {
      "cell_type": "code",
      "source": [
        "for train_index, test_index in kf.split([1,2,3,4,5,6,7,8,9]):\n",
        "  print(train_index, test_index)\n",
        "\n",
        "#In iteration 1, 6 samples are in training(2 folds) and 3 samples in test(1 fold)"
      ],
      "metadata": {
        "colab": {
          "base_uri": "https://localhost:8080/"
        },
        "id": "Qdr5V85lviqN",
        "outputId": "1953958a-8329-4ecb-f650-32e15e3d1fef"
      },
      "execution_count": 15,
      "outputs": [
        {
          "output_type": "stream",
          "name": "stdout",
          "text": [
            "[3 4 5 6 7 8] [0 1 2]\n",
            "[0 1 2 6 7 8] [3 4 5]\n",
            "[0 1 2 3 4 5] [6 7 8]\n"
          ]
        }
      ]
    },
    {
      "cell_type": "code",
      "source": [
        "# defining a utility function\n",
        "\n",
        "def get_score(model, X_train, X_test, y_train, y_test):\n",
        "  model.fit(X_train, y_train)\n",
        "  return model.score(X_test, y_test)"
      ],
      "metadata": {
        "id": "1XR4BALnvymO"
      },
      "execution_count": 16,
      "outputs": []
    },
    {
      "cell_type": "code",
      "source": [
        "get_score(LogisticRegression(), X_train, X_test, y_train, y_test)"
      ],
      "metadata": {
        "colab": {
          "base_uri": "https://localhost:8080/"
        },
        "id": "4puXvRj3wew1",
        "outputId": "55dad018-4e7b-4500-b32c-5c721f9b418c"
      },
      "execution_count": 17,
      "outputs": [
        {
          "output_type": "stream",
          "name": "stderr",
          "text": [
            "/usr/local/lib/python3.10/dist-packages/sklearn/linear_model/_logistic.py:458: ConvergenceWarning: lbfgs failed to converge (status=1):\n",
            "STOP: TOTAL NO. of ITERATIONS REACHED LIMIT.\n",
            "\n",
            "Increase the number of iterations (max_iter) or scale the data as shown in:\n",
            "    https://scikit-learn.org/stable/modules/preprocessing.html\n",
            "Please also refer to the documentation for alternative solver options:\n",
            "    https://scikit-learn.org/stable/modules/linear_model.html#logistic-regression\n",
            "  n_iter_i = _check_optimize_result(\n"
          ]
        },
        {
          "output_type": "execute_result",
          "data": {
            "text/plain": [
              "0.9777777777777777"
            ]
          },
          "metadata": {},
          "execution_count": 17
        }
      ]
    },
    {
      "cell_type": "code",
      "source": [
        "get_score(SVC(), X_train, X_test, y_train, y_test)"
      ],
      "metadata": {
        "colab": {
          "base_uri": "https://localhost:8080/"
        },
        "id": "NGusSaC7wn8Z",
        "outputId": "20bc3995-dee9-43f4-94f4-1b9f110d2e84"
      },
      "execution_count": 18,
      "outputs": [
        {
          "output_type": "execute_result",
          "data": {
            "text/plain": [
              "0.9925925925925926"
            ]
          },
          "metadata": {},
          "execution_count": 18
        }
      ]
    },
    {
      "cell_type": "code",
      "source": [
        "get_score(RandomForestClassifier(), X_train, X_test, y_train, y_test)"
      ],
      "metadata": {
        "colab": {
          "base_uri": "https://localhost:8080/"
        },
        "id": "wMV1Vtkrws5K",
        "outputId": "0f2349a1-5aff-4df2-e775-438c878bb8b7"
      },
      "execution_count": 19,
      "outputs": [
        {
          "output_type": "execute_result",
          "data": {
            "text/plain": [
              "0.9796296296296296"
            ]
          },
          "metadata": {},
          "execution_count": 19
        }
      ]
    },
    {
      "cell_type": "code",
      "source": [
        "# Now using KFold we will evaluate the performance of all the three models/algorithm\n",
        "from sklearn.model_selection import StratifiedKFold\n",
        "\n",
        "# StratifiedKFold is a KFold only what it does is when we split, according to the output class labels it creates the fold uniformly, by mix and match."
      ],
      "metadata": {
        "id": "1f_FCTV9wvrQ"
      },
      "execution_count": 27,
      "outputs": []
    },
    {
      "cell_type": "code",
      "source": [
        "folds = StratifiedKFold(n_splits = 3)\n",
        "scores_logistic = []\n",
        "scores_svm = []\n",
        "scores_rf = []\n",
        "\n",
        "for train_index, test_index in folds.split(digits.data, digits.target):\n",
        "  X_train, X_test, y_train, y_test = digits.data[train_index], digits.data[test_index], digits.target[train_index], digits.target[test_index]\n",
        "  scores_logistic.append(get_score(LogisticRegression(), X_train, X_test, y_train, y_test))\n",
        "  scores_svm.append(get_score(SVC(), X_train, X_test, y_train, y_test))\n",
        "  scores_rf.append(get_score(RandomForestClassifier(n_estimators = 100), X_train, X_test, y_train, y_test))"
      ],
      "metadata": {
        "colab": {
          "base_uri": "https://localhost:8080/"
        },
        "id": "fWfMsmHkw7w2",
        "outputId": "3baf3096-ffc1-4e3a-f67a-89ffb3040781"
      },
      "execution_count": 42,
      "outputs": [
        {
          "output_type": "stream",
          "name": "stderr",
          "text": [
            "/usr/local/lib/python3.10/dist-packages/sklearn/linear_model/_logistic.py:458: ConvergenceWarning: lbfgs failed to converge (status=1):\n",
            "STOP: TOTAL NO. of ITERATIONS REACHED LIMIT.\n",
            "\n",
            "Increase the number of iterations (max_iter) or scale the data as shown in:\n",
            "    https://scikit-learn.org/stable/modules/preprocessing.html\n",
            "Please also refer to the documentation for alternative solver options:\n",
            "    https://scikit-learn.org/stable/modules/linear_model.html#logistic-regression\n",
            "  n_iter_i = _check_optimize_result(\n",
            "/usr/local/lib/python3.10/dist-packages/sklearn/linear_model/_logistic.py:458: ConvergenceWarning: lbfgs failed to converge (status=1):\n",
            "STOP: TOTAL NO. of ITERATIONS REACHED LIMIT.\n",
            "\n",
            "Increase the number of iterations (max_iter) or scale the data as shown in:\n",
            "    https://scikit-learn.org/stable/modules/preprocessing.html\n",
            "Please also refer to the documentation for alternative solver options:\n",
            "    https://scikit-learn.org/stable/modules/linear_model.html#logistic-regression\n",
            "  n_iter_i = _check_optimize_result(\n",
            "/usr/local/lib/python3.10/dist-packages/sklearn/linear_model/_logistic.py:458: ConvergenceWarning: lbfgs failed to converge (status=1):\n",
            "STOP: TOTAL NO. of ITERATIONS REACHED LIMIT.\n",
            "\n",
            "Increase the number of iterations (max_iter) or scale the data as shown in:\n",
            "    https://scikit-learn.org/stable/modules/preprocessing.html\n",
            "Please also refer to the documentation for alternative solver options:\n",
            "    https://scikit-learn.org/stable/modules/linear_model.html#logistic-regression\n",
            "  n_iter_i = _check_optimize_result(\n"
          ]
        }
      ]
    },
    {
      "cell_type": "code",
      "source": [
        "scores_logistic"
      ],
      "metadata": {
        "colab": {
          "base_uri": "https://localhost:8080/"
        },
        "id": "fo41JIT6yUo5",
        "outputId": "ea640ff2-f619-4358-fa6a-bc9c3893cdd9"
      },
      "execution_count": 43,
      "outputs": [
        {
          "output_type": "execute_result",
          "data": {
            "text/plain": [
              "[0.9215358931552587, 0.9415692821368948, 0.9165275459098498]"
            ]
          },
          "metadata": {},
          "execution_count": 43
        }
      ]
    },
    {
      "cell_type": "code",
      "source": [
        "scores_svm"
      ],
      "metadata": {
        "colab": {
          "base_uri": "https://localhost:8080/"
        },
        "id": "UTZd3EnjzYBf",
        "outputId": "32df46f5-0f21-45c9-8b8c-705428bf9988"
      },
      "execution_count": 44,
      "outputs": [
        {
          "output_type": "execute_result",
          "data": {
            "text/plain": [
              "[0.9649415692821369, 0.9799666110183639, 0.9649415692821369]"
            ]
          },
          "metadata": {},
          "execution_count": 44
        }
      ]
    },
    {
      "cell_type": "code",
      "source": [
        "scores_rf #after hypertuning n_estimators parameter"
      ],
      "metadata": {
        "colab": {
          "base_uri": "https://localhost:8080/"
        },
        "id": "yjPmJ_Xuzb5V",
        "outputId": "6d146e54-343e-4679-ca2d-d6a46f1c3b5e"
      },
      "execution_count": 46,
      "outputs": [
        {
          "output_type": "execute_result",
          "data": {
            "text/plain": [
              "[0.9449081803005008, 0.9616026711185309, 0.9282136894824707]"
            ]
          },
          "metadata": {},
          "execution_count": 46
        }
      ]
    },
    {
      "cell_type": "markdown",
      "source": [
        "Before hypertuning RandomForestClassifier()\n",
        "\n",
        "![image.png](data:image/png;base64,iVBORw0KGgoAAAANSUhEUgAAArAAAAFYCAYAAACru8/EAAAgAElEQVR4Ae2dQY7kNtJG8yp1ogZ8g7qI0ZuGr9FeNnyJ9troG3jRiwEMGJjZDQoYYH79I5FBBoNBiVKmKpPZbwAjpRTFCL74SH1SqmsuE/+DAAQgAAEIQAACEIDAQAQuA+VKqhCAAAQgAAEIQAACEJgwsIgAAhCAAAQgAAEIQGAoAhjYocpFshCAAAQgAAEIQAACGFg0AAEIQAACEIAABCAwFAEM7FDlIlkIQAACEIAABCAAAQwsGoAABCAAAQhAAAIQGIoABnaocpEsBCAAAQhAAAIQgAAGFg1AAAIQgAAEIAABCAxFAAM7VLlIFgIQgAAEIAABCEAAA4sGIAABCEAAAhCAAASGIoCBHapcJAsBCEAAAhCAAAQggIFFAxCAAAQgAAEIQAACQxHAwA5VLpKFAAQgAAEIQAACEMDAogEIQAACEIAABCAAgaEIXN7e3ib+gwEaQANoAA2gATSABtDAKBrAwGLguYFBA2gADaABNIAG0MBQGsDAItihBDvKnSF58hQDDaABNIAG0MB5GsDAYmAxsGgADaABNIAG0AAaGEoDGFgEO5RguZs9724WtrBFA2gADaCBUTSAgcXAYmDRABpAA2gADaABNDCUBjCwCHYowY5yZ0iePMVAA2gADaABNHCeBjCwGFgMLBpAA2gADaABNIAGhtIABhbBDiVY7mbPu5uFLWzRABpAA2hgFA1gYDGwGFg0gAbQABpAA2gADQylAQwsgh1KsKPcGZInTzHQABpAA2gADZynAQwsBhYDiwbQABpAA2gADaCBoTSAgUWwQwmWu9nz7mZhC1s0gAbQABoYRQMYWAwsBhYNoAE0gAbQABpAA0NpAAOLYIcS7Ch3huTJUww0gAbQABpAA+dpAAOLgcXAogE0gAbQABpAA2hgKA1gYBHsUILlbva8u1nYwhYNoAE0gAZG0QAG9moD+336/NNlulzkvw/T5z/fawLk2B9/f6eYf36ePixj/Th9vZrdO+VMntykoAE0gAbQABp4Kg1gYG8p6N8/TpfLmAb2+68f/mfCO0wpBvapFoBR7rTJk5s9NIAG0AAa0BrAwA5tYG8n5m4De0te9IUZRgNoAA2gATSABg5oAAN7AJq+Ayi23/0JLAa24H/LWtIXCyoaQANoAA2ggYfVwBUG9uv0Mb33Ob//2frpPL+nGd4T9dt9/VneIQ2fH379XkDLTwhNfz99nr5bgS1GUvX389eir2B6evPfYRI3DWxfTMsivV+bxmEYNNm/TW/pJ3/hoV8TsPlIG/lUbW0/HndVh1Av6ecy2XpiPHfoSnGFG9zQABpAA2gADbxNBw1sND7JUM1i+jp9tKZGTE/x/ffp88/adMa+dBs5T/WvDVE2Q3UeoZ02yXWbJdfZfKv+3fz3Goc1AxtNdc79bZIx6X+AFcyrMo7OeYVw12JGjjrmYmiLcYeFIOSi4q6MfclR16toK+Za12Ae68d3/MdtLG6FRor6wAY2aAANoAE0ML4GjhnYaIy08fLEsG50AryWcbJG1DN7c8wyRjCrhWGbL97W5HXm741p9TsbJxmHaOoq4xi/T2bQy9+2MaJrxnTGnfIxfbyJmb6BgV3LZyX+KlfOc35BqGsIQ5igATSABtDAj6KBYwZ2ftoaXx9om1jPjFlhrZgzYzKtoXUL1DJPpq/0BPZ/Y2jnb3Pt2N+IXxlraxxjnmW7lvmN+bRizqYv9td+vSOPqXUj4XEubxpyH3PbtWNeX3xX8oMHPNAAGkADaAANbGvgoIGdO47GKr0HW/5kLOZp3SCumDNj5noMrDylTe+MptzCu5hlLhv5H3nq1zKTlYHOhbHjWgyg/nNWS58rRrsVM+WfbzYCF/8p620M7Eo9Uz557ExQWKABNIAG0AAaQANHNHCFgVXA3Sd9O57AVj+t56eHYjqt0XMHu2nmVM7aULn5N9rq8+x2K/6mgRVTaU21Z7xNXq2YNrd5f2k79ynxcl+3MbA8gXV16dWC73gtAg2gATSABtDAYQ3cxsDOBahMWjRj6f3ObJb0Rb5lnOz3XQa2ysGPqeOn7WvOFQE2zWTryaT5vnn+yjj2ntNq3/pexqY+114T6KqT6ivx57vDkxiGK/MDXaErNIAG0MBTauCYgf39Y/VnkVzjspgi+6/9G3+FQD+FjWZSvwvq9u+IMvwEb15nsO1687fnbe2vmcDIQp4oz6ajGtMRE70Sc+5fx5tjVq8oyJhi7PIvM/jGYM3A5veLy6e8/BUCnyXmEy5oAA2gATSABvZr4JiBTeYr/51P72fppSBijNL7qJ65tO9p1u98VmZPjJfzGdrq3C7TxTwJrtuUhqtbTNX4VFwTM/+EL23qmHVesa3ua0fMYFglXs2hGKfccKRa5fyaeV28v/Favwqhb0aKmE79OL5/IsMMZmgADaABNPAjaeCwgf2RIL3XWMUk2qem8npGz9PR98qVOCyUaAANoAE0gAbQwL00gIF9oCeAzZ/35c+W6dcsHijve4mXuCycaAANoAE0gAZ+TA1gYB/ICLaewMprANWT2QfKnQXkx1xAqDt1RwNoAA2ggXtoAAPrmcC1d0zT+6H2H6fdRsBiYsu/ZZvfRb2HSIh5m9rCEY5oAA2gATSABm6jAQysZ2D57in/5AaLxm0WDTjCEQ2gATSABu6tAQwsZhWzigbQABpAA2gADaCBoTSAgUWwQwn23nd8xOepAxpAA2gADaCB+2sAA4uBxcCiATSABtAAGkADaGAoDWBgEexQguWu9/53vdSAGqABNIAG0MC9NYCBxcBiYNEAGkADaAANoAE0MJQGMLAIdijB3vuOj/g8dUADaAANoAE0cH8NYGAxsBhYNIAG0AAaQANoAA0MpQEMLIIdSrDc9d7/rpcaUAM0gAbQABq4twYwsBhYDCwaQANoAA2gATSABobSAAYWwQ4l2Hvf8RGfpw5oAA2gATSABu6vAQwsBhYDiwbQABpAA2gADaCBoTSAgUWwQwmWu9773/VSA2qABtAAGkAD99YABhYDi4FFA2gADaABNIAG0MBQGsDAItihBHvvOz7i89QBDaABNIAG0MD9NXCZ+B8EIAABCEAAAhCAAAQGIoCBHahYpAoBCEAAAhCAAAQgME0YWFQAAQhAAAIQgAAEIDAUAQzsUOUiWQhAAAIQgAAEIAABDCwagAAEIAABCEAAAhAYigAGdqhykSwEIAABCEAAAhCAAAYWDUAAAhCAAAQgAAEIDEUAAztUuUgWAhCAAAQgAAEIQAADiwYgAAEIQAACEIAABIYigIEdqlwkCwEIQAACEIAABCCAgUUDEIAABCAAAQhAAAJDEcDADlUukoUABCAAAQhAAAIQwMCiAQhAAAIQgAAEIACBoQgcNLDfpk8vL9OL+u/TH0ONm2QhAAEIQAACEIBAQeDbL6W3efnlW3GcncchcJWBff3t78cZCZlAAAIQgAAEIACBmxD4e/ry+jJhYG8C85ROTjWwf//2WjylvUoIf3zq6GvHk+G/vkyvyxPk1+nLXzXbKnd52vz6Zcq2vY738uL0Z3OXvl4+Tfberrr7c9pMU5xYqZ86ppv/yp1kiuu16czfjTnnWDCbpimxlzvdOv+pM+ZcuZR74lFyrY9L3PnTiV3L4eA3Vh/XxNqueZlkjt260UxcvJpP+Xz9S8u87f7aYmtqa+7Uyeun0pDTzzJORx9VfzantVqntl6NLPugnyqeKkBiGzVZte3Jv5NZDptr5tXc5vTiri25t1tsVfV0tdYZyTJr9pXr5XHI0TKvoHG9buQ+rP6rPpN2ZF0xGqqOS7v4mcaxI2YaRB6DzatiL+tjNadsXJO/Eysw8dtZnVXaX/qzMZ3rRIpbXjO8/rpiOnWwzHTIdJ1N9SmPsnd/AqcZ2CAoJXARzwExhImo+hIDV0zEMJG1uGUC6++SKF+/TN8Wg637zQUJ5+oFLR9b26rGPTdeFl4/Tu4rTuhiTDLJdR5xwdIc48JejjP3vGy1+KdznX6li678p6mL2ZJHyeJ8ZjKQ8nOJW/Auj1+15/B2x9kVxKlNqpvfQYgVLpDVIp3OdfpN3YVj1bnpeN7YHpej7chH97/op6hHzK/4TnRWaqia6706U2vJ2nqQRxu2qnjSwKm7HJLPcO5G/iqvdMPsMJM+5892zR3+0v+JJrbSRQcbPR69XTPzxqS08Ud4QKH1VffXuBlbGsb+9TqrO5Dtbp3JCeoz8sjrdmdM1UW75sJCXzvUiWnTWQPS+pAa5YcOikdVX9GUnq+uZp2YcsOsz03hIxf3ZtDRgRfTG1P8rqWR5BXUmFNKbDwEgXMMbDUx41gXwZQL9yaF1b7WFqC553qizJNOBFsvijmbcGxr8uf2acvLt2fc3nlzp+bcZdGoJrkziVNCeaM6d4kpY6xZpTNNDul7s3EtM6nL0m1PzE5mJs2wG88tYroNj31ZsV662X+Bmk9b7avSQn5a8emPUNNijL01j3OnONdD0VGnli6WcW0YqHqOthg6Y7X5OjWfc5Ax1rFsB3rfi9fKTZ/XalP2t5tZmgtlP0vkdEznUa8t5uh1u7eMudqXugbMWpT5EM+R2haDafVXNGrVqWjk76zFVmfU+t8ZM43DqfnUZ2B715bVdtHgdWu2sWa0zk/XwHhTkg1/e4yWbU/+qjRxc2c96g745mQCpxhYX4hRDC/5gtE1tobYxZy6C1TqOEzs1qsLIU/fUPtjSB23N9Kiopo0x6DaNBa9Mo/2hCrbqX7Vpj+JpcEKq578OxdMiVZ8emPviemd15mHXeCKfK7e8S8o+bUIuWnoCbS35rp9I48UdqXmXQZWx0qdVhtN3XXUuJ6jMaYYFYnmzTs5Jp8NvcjhOpYc8T4dth3jSU91NvLfx0zXwcmrMe6eNcMbec93ft8xz/e4BjTGPOfeZFsMTDMtDmzvrMROJ7tt9sTUbZ2ad62Duo+U2bJR1s/v365nTa52Xiz76sYjhvbPV7EjM21g/XPqm7OlXXWzrPouhx/32nzc5nz57gROMbC1qEQo3/a/FO2INlAKfbbM6dLGXSQy47ULVjhm3lWyF53cVdyKgrft4oQt36WqTUyKWdzRlhO9ZhtCr41ladFYNPIQVnjuzV/etZo/LYscMG95ue2NucIsB4pbG7qo2u/9wtFsqM+n6dsyLv+mqRVmT81TnKUzmXfpR2gTYqXm8uuFrmX1/qv0H+e1aqsvMmVOKgWv7urwvOleeCLf9A6n7G/91LcRb3MOqdy8vNI4rXbtHJB85YIq+yr/1JeKuWw6YyjbSk3Kmoc2+R+kyL6ukw11zX6tWcnrna4BkWn9gCObklDDvMaXbWM7pel5/S7bNAg5NbItPf2km5uOmLtqrvszWqzrFDIN/cd1KrLUWknxl7GGduk7O1iHh7AXnmG/XheL/Nby2IwZ17r0HnzcNzzKbrJWyu/ZexQC5xtYJfA0QdVCvQ1CFpLS8MkEaBtYOa+eFBKzmKTyZfNTJkCZRxpTWiTsca/DldzkYrb05+QeFwOZ+Evv6RzTPrYV41ycU6UVx9dVm5X8i35bzHSjnjZz+5WYafzzxcgw0KHidtBOT52ck3u+KhbamLdwLeZDT2fyNMFcPNOY9XgDy1xnu2/jRfaSmz1s9sN8UXm4OcjPeurGS9oVcaTuqp2Jl57wFOdJI9FD4z1faZY+JV677lvrQVpzGnMzHS/yjXGrC+VG/t3MQv9dNZc+G/knVDfYWFjImAvNm/nQFUtYlbXzeccO41gzFwkkOjC689ZVOUU+ZT0t6isH5VP6L3OVo8tnM7eiVdhxY+6oedGlk5s37qSTuLbE/WBgTf2W88t25TVZYhrec14ytkWPDq8irn41Sg1Kci1q0o6ZNDPHLM5RfaZNM9b0PRuPQuBUAxv+UYQW5lFByAKW75bd9/sS1dxe3zWmw3Fj64Jl28uEW+tT2tQLp+ktTjzdzhqENNnsRCsmfnjKWbM28ZIB1PXQbeKkt7F0E73t5K8Pp+2Yq89MFhptwtKZ9YYTs5uZ9Ob0IYdu9hljuBrVC/6egB01L0zD0nfgqzVWhtxZc9GQGJMmS2eex7ZyM7U8PV1jIeOVWDpx6UuOSVt5oqnbKg5bNze71gPJQc2XMF+d+WXHKedu5S/tlgv8vPbVT/B7a757nlQM930hedXrkqONrq7zmi4acueX9BXZ1dpva15yLp9dS4fhs1nj5XDferbeRxlv3rPt6zy35rnqM86VYj1O8ydeX9M/cI5ajixd3i1tr2g2j0lMba5trpejk5SHGs+82TFP5JXD6leb1QceTg4mNLv3JXCKgZXFsv75eMdE2+LSEnOa8OpJUaOvXResuY8YM08yv+N6gfHamYU0LiK2b2FZLDhOd10xV5ilCa4uyE4Y9ZXJXx0pNpvM8qK1Nbbcn4l5gJm9GOS+b7kV86x+cpenk47JORC+qLm9kCz9hTyspnIowzMfaG6V/Fr99y38QdsOi6iZdLEpsok5i/mTY3JOpd9+ne1dD2z+dl9SCze1cpO2N//Uy7JRxOit+YF5Ukbdvxfy9F4hamlmfwxZj931Y2vdqXTS925sGJfUUufcqbNmXrqvcruI2Vvzsou81xm/WFvU60SWdaHHHKXYsm3CvpjX3DSsLYGtPWdpFXO3OeQe8lZ5vtTGrjWNuZi66VvHUnM23p3AKQa2ubC4k28eswisFnWLyCJQexHbYV6XqCt/RsuLGyaFt3iVrcvJXx5Le/GiIpMx9O2Mv3HxSf0sG2EiSl/lMbW3ugDEyews7KqHvGnyzwfKLZ/Z/novvZqYu5l1Lt7yFL2+ASvHtrbna2BlQYxj649Z1jws/vkXCnlKpT9rI7uz5nIhSxppjSf0W8fTxMK5VZtYI9+85pvI+ue/OJZiTdinM1+rOudyO7RXF8WlhvX6ULST8SWG0qeXvxyTz5JZb813z5MD67FkmD5ba02DkVwzmnVPHeeNZVxFvfMx6a/Sl1wjqvNaWlZ9CpfWuc4Nqz573g41U5qxDar9mFeM2Vvzqpv4RdBCrdGyfdCivp4scVvjrrSseys1Ox8JY6hzyDqNY05Pcf11TeenI4qfyLVvzS2J06pHPL46vjIye+9L4BwDm0SqhLFmHmRR3/NeivNzoUzuLNx1mH2TOfYRDcZW33kSrsSW8eqJId8Vi4RMsHqyp94780pPWIv+Uy9zxcL/PbDOSR/W25LrVls3NxmTY9Z1DLvtxZTvijFJ/zWzoA+lSRsj7ksNZ/PXXiQbJ8vXMTetl7X4ot2tn7mX7l2uElh/hprqHPTRXTWXi7eddzEXzWltnEt8qZvVj3xvYxRJ+/WVmuWxSrv+Gl6/HsSYWo+VDiSvUp91/sWg068/tXE37eI8zhyU6dd5pXqWeYTe4lowr8fFOTbW+n6lg4pFPl/G3zfnhOHKXF6J5ZnbntqH8VhekkuHztZyyiiKLT9m0SSt3UXNbZN5v2fdaLVxcq/qa2PGcyrNxhjl96K57ZrqtcaGlNqWfYtpNjVy89A9xtradUo3YfuuBE4zsPOogsDz3VN7gq0vAl39yGRp3LWJ6PVCqZ9OLdtqsbYxXWPhxVR9SGW9mJKPtFk+vf7sxbxq40/4On8zeZeAsmjkGmkmkmNv/nVMu9jnRVTHydu5fW/MtGAVdXeYCLeuxShzEQZFnXp3JGbKzclL+pLF1NFPPcaVfqS/5TOMo5x3eWyZe65/Gm+V+8o/epDcZZzVGGzMXGedbq2fnFdppPJ6oceQcp87tTlJbstnju/pLPWZxmHzn/Nq1aDOrchrGXDdZo5ZtrMxc86aWb0dzitrrkxswaE1BnnV5ToDO+dma1rlJQNIevNz6uon9aF0k8Zr+FVtbVzLv8GiU2eZhclDxr98dsYszll6Xh4+WLaWWd81zHJQwXYzWxmrxy3NNxVTb8b4R+dJzWPrNcM4T7uuGTpRtt+LwKkG9r0GQRwI3JpAWOxWFuBbB6Q/CDwSATErXLwfqSrk8q4EMLDvivtAMAzsAWic8uQE4tMB+0TjyUfN8CAQCcgT4pWncbCCwNMTwMA+eokxsI9eIfJ7RwL5J7zyZ6p3TIFQELgjgfRKxdbPuXfMkdAQeB8CGNj34Xw8ylUGNr0rVr2/dTwhzoQABCAAAQhAAAL3IFC9K8trNPcoQ1fMgwa2q28aQQACEIAABCAAAQhA4OYEMLA3R0qHEIAABCAAAQhAAAJnEsDAnkmXviEAAQhAAAIQgAAEbk4AA3tzpHQIAQhAAAIQgAAEIHAmAQzsmXTpGwIQgAAEIAABCEDg5gQwsDdHSocQgAAEIAABCEAAAmcSwMCeSZe+IQABCEAAAhCAAARuTgADe3OkdAgBCEAAAhCAAAQgcCYBDOyZdOkbAhCAAAQgAAEIQODmBDCwN0dKhxCAAAQgAAEIQAACZxLAwJ5Jl74hAAEIQAACEIAABG5OAAN7c6R0CAEIQAACEIAABCBwJgEM7Jl06RsCEIAABCAAAQhA4OYEMLA3R0qHEIAABCAAAQhAAAJnEsDAnkmXviEAAQhAAAIQgAAEbk4AA3tzpHQIAQhAAAIQgAAEIHAmAQzsmXTpGwIQgAAEIAABCEDg5gQwsDdHSocQgAAEIAABCEAAAmcSwMCeSZe+IQABCEAAAhCAAARuTgADe3OkdAgBCEAAAhCAAAQgcCYBDOyZdOkbAhCAAAQgAAEIQODmBDCwN0dKhxCAAAQgAAEIQAACZxLAwJ5Jl74hAAEIQAACEIAABG5OAAN7c6R0CAEIQAACEIAABCBwJgEM7Jl06RsCEIAABCAAAQhA4OYEMLA3R0qHEIAABCAAAQhAAAJnEsDAnkmXviEAAQhAAAIQgAAEbk4AA3tzpHQIAQhAAAIQgAAEIHAmAQzsmXTpGwIQgAAEIAABCEDg5gQub29vE//BAA2gATSABtAAGkADaGAUDWBgMfDcwKABNIAG0AAaQANoYCgNYGAR7FCCHeXOkDx5ioEG0AAaQANo4DwNYGAxsBhYNIAG0AAaQANoAA0MpQEMLIIdSrDczZ53Nwtb2KIBNIAG0MAoGsDAYmAxsGgADaABNIAG0AAaGEoDGFgEO5RgR7kzJE+eYqABNIAG0AAaOE8DGFgMLAYWDaABNIAG0AAaQANDaQADi2CHEix3s+fdzcIWtmgADaABNDCKBjCwGFgMLBpAA2gADaABNIAGhtIABhbBDiXYUe4MyZOnGGgADaABNIAGztMABhYDi4FFA2gADaABNIAG0MBQGsDAItihBMvd7Hl3s7CFLRpAA2gADYyiAQwsBhYDiwbQABpAA2gADaCBoTSAgUWwQwl2lDtD8uQpBhpAA2gADaCB8zSAgcXAYmDRABpAA2gADaABNDCUBjCwCHYowXI3e97dLGxhiwbQABpAA6NoAAOLgcXAogE0gAbQABpAA2hgKA1gYBHsUIId5c6QPHmKgQbQABpAA2jgPA1gYDGwGFg0gAbQABpAA2gADQylAQwsgh1KsNzNnnc3C1vYogE0gAbQwCgauMLAfp0+Xi7TJf33Yfr8p1f479Pnn7bbff1Zt7lMH379Xhir779++F+sj9PXN9PfT5+n79aE/v5R5XWZLj9/LfoKxenN3xtT/d1q/n9+nj5c6jHNeYRxBXZLHz9/jd/FvOO5M+ePv9dxRxEaeVI7NIAG0AAaQANo4FYaOGhgo/krjOHX6aM1k2K+iu+/T59/1qYz9qXbyHmq/2D0gsnN5rbOQxvCAKlu8/bW+E7nYE3xyn4wr7O5zsL8+rM29NF0V/3H7+M4l35++jB9mPcXE/5h+vDT3E/Z7lbFp59cL1jAAg2gATSABtDAOBo4ZmCjwdx6IhgMmTarNZj8ZLU8Zo2oGFgbs4wRjGk2uLHPaAbTE+LO/PuE3Gcu7XiWvk0ewQhH4xufIoextAxwyawvX86BExpAA2gADaABNDC2Bo4ZWHmCufqzdsNMqqeUb/I6QPVk8m16M+bONYBFX2/pqWUyqnLc9JWewK7m31/YYDxbrypIPzWPMKb85LYw49HABsOOgWWhER3xiRbQABpAA2gADRw0sDO4aKpa78BWptGDvfL0Mp4vT1N7DGxoU75Lm9/Rte+QbuQv5rfz08aWvPUkKwxq5KfbFccxsM57y56G+E5rjG30gAbQABpAAz+CBq4wsEog0WxeLvq9z/qJYw1028DKKwM9BlbeG62ewG6ZUDd/Nb6t84vj2Rhrc7qMXb/KsMTUvN4mDOxR5pxXzy2YwAQNoAE0gAaeVwO3MbCzgYsmUAxnekLrvR6gDF8wpvlndBGb/b7LwFY57CjcNeeq8YT8W8Y8fD8b22U8hg0Gdke9KuacK3OHT7SABtAAGkADz66BYwb294+NP3NVPlEMT0Ttu6GNv0Kg/uKAmGH9BLPLwL7Fp5jFk2BHxL35d5mk9l9f0PmLkIJx/Th9/N+fFstmP+SIgXVq1VUDzhN98YkW0AAaQANo4EfQwDEDm/5+qX7ftH6KugCMTzbzu6jG5C4GJbxukNvU5q7XwM4xQ1ud22W6mKeddZtG/j0GqhpjnX8SU2pbx8PAsugknfTojja8J40G0AAaQAM/qAYOG1gutJgtNIAG0AAaQANoAA2ggXtoAAP7g9653ENsxGSRQwNoAA2gATSABm6hAQwsBpafX9AAGkADaAANoAE0MJQGMLCeYNN7quY92vQ3b+P3+h+eef3w3VCT4RZ3hPTBkwU0gAbQABpAA+drAAOLycRkogE0gAbQABpAA2hgKA1gYBHsUILlrvb8u1oYwxgNoAE0gAYeXQMYWAwsBhYNoAE0gAbQABpAA0NpAAOLYIcS7KPfEZIfTy3QABpAA2gADZyvAQwsBhYDiwbQABpAA2gADaCBoTSAgUWwQwmWu9rz72phDGM0gAbQABp4dA1gYDGwGFg0gAbQABpAA2gADQylAQwsgh1KsI9+R0h+PLVAA2gADXw0M+0AACAASURBVKABNHC+BjCwGFgMLBpAA2gADaABNIAGhtIABhbBDiVY7mrPv6uFMYzRABpAA2jg0TWAgcXAYmDRABpAA2gADaABNDCUBjCwCHYowT76HSH58dQCDaABNIAG0MD5GsDAYmAxsGgADaABNIAG0AAaGEoDGFgEO5Rguas9/64WxjBGA2gADaCBR9cABhYDi4FFA2gADaABNIAG0MBQGrhM/A8CEIAABCAAAQhAAAIDEcDADlQsUoUABCAAAQhAAAIQmCYMLCqAAAQgAAEIQAACEBiKAAZ2qHKRLAQgAAEIQAACEIAABhYNQAACEIAABCAAAQgMRQADO1S5SBYCEIAABCAAAQhAAAOLBiAAAQhAAAIQgAAEhiKAgR2qXCQLAQhAAAIQgAAEIICBRQMQgAAEIAABCEAAAkMRwMAOVS6ShQAEIAABCEAAAhDAwKIBCEAAAhCAAAQgAIGhCGBghyoXyUIAAhCAAAQgAAEIYGDRAAQgAAEIQAACEIDAUAQOGthv06eXl+lF/ffpj6HGTbIQgAAEIAABCECgIPDtl9LbvPzyrTjOzuMQuMrAvv729+OMhEwgAAEIQAACEIDATQj8PX15fZkwsDeBeUonpxrYv397LZ7SXiWEPz5192Xjto12fpLsttkRc65OunN7/TK51v6vL9Pr8tT6dfryl61nnCzqqbY84XZz0/HiOdVT8K78MwOJV/Uzp5pyz3enXl6JgYyjefeax+v1M9nc5/5aXKdp2q55jhfG6dXA1uTafcv2mphb+dtYuU7LeA07Wye35tNWTMXH6sPEk5bbdZpb2rF8mtxnIEkjjeNL0DwGV2dLGxuvXafErUPXMp+sbi2DpV2zvw1tJwaq3g32KffWeiFFuuFnNdaVcW6GtWNd6at/rLn2nj76+wnZp/aNGuR1zdNs1mrSTqyVl1vXPOlhZufuS0P/VbuXqc4r85Qx+GvLzCuPt+6n1v1V82QOZ/Nv1SgJMea3orPUlI27EDjNwIaJrCaCiOeAGMIiqPoS4VcCjJOn+t5nmxabl3oi9seMfeuFooofJ8Lrl+nbYur1WCS3HZOlg2Vf/oGXXmDkgqO/k0XX+04vPAtPXd9Gnim3P4Kh130IjfqzVdvW97qH2EbnFutVjEmfcu22M/ZqTnTHuCb/cG5mnLWYbrJirrnNnFh/zL5xxf6quVFCcPVXNilyC7E9MyAXwNfpy5rOeuuU9OJwSfl5xzrG7eQQuuw4N8WWDe+c3ppLH7f5rHTRHOd2vLRmpBt/Z0xzNztjhByD+S/17/Qf+y7bqdxXrwFZG23Nxph6nVLd682eedLFbBlTeT2q6jYHTvpXWcTvMo8wRr2mtvJMua3NTRVq2WzW1tO8OdnJv10HObe/HnIGn+9L4BwDG4WmhbwMaxFROVk2h7va18ukYyyC3LhApnip3yD+PAnzIqj7zvmXMUN/WeheDvN30n+auGkhloxyH/KN/9nRLo3N9OBMYtOiMAdyzBtTunveWGyXc1+UwZhzkBrFPIWNxGt9Bnaqrznb+X0l6a9xot8mctw4t9Hl5terMTeY2c5X+9rI3+rNYzjHW2KoOnXH7JzTfn9mpC3dFs1C3WRu2rxT006d+XmZObbkJbrLRiTFko0GixZzOW3+9PLwvtPntLZtPLsv5zXZSYNrPlu1bDBaDbXal16PTd1WO9XrfH0N2M8sx67r1qlZeTCztT60eOjxttos/DUzfVLcjufqdbke09w2j9npJX7lzJfOuen16eXhfVeeW9d3Oe6MszyvZ3zlGey9L4FTDKw/+aMYnKedq0NuLnhGlK0J63auhWn6mdv3xox96/FuTabQ1jPxOic36fBlMzd1TrONM1Z1WtgMbfTrHsuYlLnR7fQiV3UlF+bq3NhycwEpe9SclyNdNW9zrforw12x1+C81GV+2iNmqCfENfk3aumZ3kIzvTHb7YqRddXJN3FFP86Or03TsKmzI3WqmaZosb5iruX7rTVhble16WQmMfSn1XXVtzQuai5f3ubT5hB6jXo56xqwazxau7UO9jLT422eG9Eux901QOfUrsNW/8uZTRb1WKtIznzxc+7oy/slRwd0YunDdrsae888abbZ4r113GbH/nsTOMXAViKLIn797dv+l6Kb4jMXEpmw8ScJef/GMwt6sZGfSgsj1htzrpZpW4+9LGmIvWJg5d3RxrtPKfdlvI333kxOOQPDLB/IW/HcgocsQundqNiPZ4RyT/kOvdXOjVV0kHe8tp01b9WkXYsc9tCWw7+sm1f/dqSj+XvjS3nYcFFPYr76YsoFLM5rpV3pZwnTVad8sVhiq75KLZaJh7YbNwSeduZuDtVpfQ5J7pJz2N+ot2Hfz6xksew5Y+2tudPb4a+WcRfz3mhl6ymjjuzUKRwua5HGGXmma0CRRzgztV12Jbf0Uk18p97RlVcrk189dj2Y+teOfDTOAaX9eQyipZh5uoaK1mScRTuTU45RMsvfqy1vjEevAY4eVaQ0B4vciwZqx8tr+S6/JiQsyut+Xd/Qa+Tt6KM4vkerKl02zydwvoEVgS0/meeLVP/QZFKXi0mavFFcYUGyPyd751ox2/05M+88WXjKf5VoFyu7b8cZ8ty4oMlJccLWT0PLHMSE55/S+/OXUOFTzvPzS8znBbZjUktNmotT5+KWFiUTU/rP455HIWNQeokcizxi7JdkyksSV+0VF4+Yj+RezIfOKIfyb1yoZNySz5JCbPuiflrsiSl9GYZSFzGxsr9eJyeHOTcvD4UtaFLVWh1LmzHPov7zwUN1anBNwXLOQbeN3OK4RNs2tz5mMWiqQ7yhLWqbx1nO2QZvPY4rtot1cBmrrClmPnTFcOa0PLVWa1Fan4rxx3EWJiV8l5nb/X3MirFKXkW8cpBdmpVTRCdpTI26VfOkj5mEyZ/Sv6/bxFhxz+faLclBam+PZ865FqaNjD+aetuud56EvMs8/HN1/CNa1eezfTaBUw1s+AdLeiIcFYRMhPzE8dMf5aITxFgKdIFXXKScn+rS0+F89x2gb8f0XjWwi5ktYDNP2zDu28XO7qfTiovE/G1H/unksr0Yj3zYLGrpgunwjielxSEtvLm3tBX7sYtSOm427CLUZGlqvnRjFsLZTNX6NAGP7qb4pUZzHm1uzZA782+ymQOk+sl8+jR9q/RjjVi4OSyYNetXzvNmLonTnFTUmKOXtTnVnA8aZCvPFH9Pndp5LqOIf0MyzKE8B9c1Lu3yWtnHTA8yb9t5shyJYxXDvDyh8mqeu7lqS2pW6GXpsdRGfxBhJJqdb7bKujW1YMYpueUVv+wn5dTDzPQ9n1v3n3pcNpp5ls3SXtm+rb867jazFCRkFv++u7c+xbjy6kNi47WdO8ux6+uJihr7WZ8f0l76PDZPAsesn+1fhGM8Z02SjPi8L4FTDGxYfO3T0HmgjYXiCIMo/DQ5nIVk6Va3c9vsyEn31RhLvYiUg2temMpmac+2D/t5AqeG7tjS0bBR5F8ek8ldLyT1ohHOjAua96RhycWrfxlTjFQd07RLu6ZWrTGvjDN11XGh0W33bUc2+olm7KBZv30BltZtrcX4Oxbe3rzKmKYeaQxm4e+qkzkn9bVuCIJunfmgzm/r7Eid2mwDQ/UUO+YQcmxd6GMjq9kuZnqQertVF91G/krDBrvylO49YVE+dZ9P78utK5Bh1tSwZqm3U5D+nMoY/nnlHElB0kaXZlNrqZPo59g8Sd0ZZun7VcO5/xoQxmhff8jR0lbMp/saYPN365lv0pM/SAH1hl+/3KLNOrdh654ETjGwcsGoxNMS2+rk8fEsC4k2T1bYcpqKKZMqP4XId2Py3dpEKmIu/dbnSz/Lp84v5hMWQFmMJMnWZ5xAuh81Hn1WubDqI3m7yD9/Hf8FemuxCZO8vhA1FjXhonNWsYrNvYuXvfh11LyIV+yEcVUandvsGUPRZ97xL2IrC+LumO3892lszjnktab9MDIbszWe0C7111mn3czkJkSeCmX85daKzvbHDGMrf46PdJanr/XcDvWojW2RpGVk96VxY/7L4ZjJ8iQt8S8Pxr21mse6Ojdgblfel3vzj+3Ldxe9jvN31XrWYBP4B6N+3TXAMJM5G3/eLtZ++c5ZB0MOvTcOsRaqn/2aXWG2HNqqd9S8yiH0KOeVYxHG6/qLOcW6d7WdT7G6svuxW+/XUTmUPpf6lbmnY8tGHN+OBwHl+eydTeAcA+tdWNaEGo8tC8CmWPxJM4OqF4b2xSaDNRfbfEBttWOqRsumv7jkVnvMRRiPvSDGXPRissZ2Cd3Ov2exkTaF2ZPFW9dLvtO55aHXW5t561P8MYTc9CLUUfOYZ2vRFMMx67EYs05na9sZW51r7kQYd72Tu5p/x/hz2HRB8AyZbiamvmIWc9GcvHHW3zl5Osy25kvdb5F12HH6Ta2cY+t9OnlLZ6J/PSfiTde6MYt9mnlT57ESW3JIDwP0nEgHw0Ycc7vmMc5swkxOpqfV3Sp/h7V0sG/O+WuB3IgVOa/ElNhdT4U3maneNv60X8Uln1pthbbmGuCMaWueJDbVzZ6wXF/rQh6mjaN3aVetE9XI4hfOWFpNpU5FfQ9e912uVeDIppjPVSO+uCOB0wzsPCYRs9yZtkW9Pon6+9kTU6iHxdrmtiem9JTGbBZ9vTgLi/SZ2qqLxsrde4iVeUk/2kCkPKSf6l+yxoxlUVbtpL/5U/dpeczHS2Z1TrqvdLFcjZkXao9ZGS+OoUdnVcyVi/vSba6FZpAjdm7tiSsXg6QHFWNHP8KtnXceW6hPZq4iZmObtLHCTHKXtt4Yeuo0J9AxVk+LSWtysan60b+WmDFXbe1YLTPdVzlPxOinfGYmhoeXf6tetq2dA1JvHc+2SRd+qY/5R3dF3eNO6tfk7rVd+24r/3RuqoFlH1p095MMfK5Ri22KbX/ZWQ7YmhvN5JOrrSVXw83mr+uV1sZ0s5Nzt9pJwRIvaVtzszFrXahfm5I2pL/5sxyz7W8eQ9FnlZPuS82T1XY5phevVUvbtshr/o3p0P8rKAY26e1BN041sA86ZtKCwCaBsCDmxXTzBBpA4JkIiMmQG4JnGhtjgUAXAQxsF6Y7NsLA3hE+oR+UQHyiaO/iHzRb0oLAjQnIryn1U70bB6I7CDwwAQzsAxdnSQ0D++gVIr93JJB/Nmz9VPWOyRAKAu9OIP3Uan4Cf/dECAiBuxPAwN69BBsJXGVg9Xs8XPA3SHMYAhCAAAQgAIGHJmDfp83vKD902j9kcgcN7A/JikFDAAIQgAAEIAABCDwAAQzsAxSBFCAAAQhAAAIQgAAE+glgYPtZ0RICEIAABCAAAQhA4AEIYGAfoAikAAEIQAACEIAABCDQTwAD28+KlhCAAAQgAAEIQAACD0AAA/sARSAFCEAAAhCAAAQgAIF+AhjYfla0hAAEIAABCEAAAhB4AAIY2AcoAilAAAIQgAAEIAABCPQTwMD2s6IlBCAAAQhAAAIQgMADEMDAPkARSAECEIAABCAAAQhAoJ8ABrafFS0hAAEIQAACEIAABB6AAAb2AYpAChCAAAQgAAEIQAAC/QQwsP2saAkBCEAAAhCAAAQg8AAEMLAPUARSgAAEIAABCEAAAhDoJ4CB7WdFSwhAAAIQgAAEIACBByCAgX2AIpACBCAAAQhAAAIQgEA/AQxsPytaQgACEIAABCAAAQg8AAEM7AMUgRQgAAEIQAACEIAABPoJYGD7WdESAhCAAAQgAAEIQOABCGBgH6AIpAABCEAAAhCAAAQg0E8AA9vPipYQgAAEIAABCEAAAg9AAAP7AEUgBQhAAAIQgAAEIACBfgIY2H5WtIQABCAAAQhAAAIQeAACGNgHKAIpQAACEIAABCAAAQj0E8DA9rOiJQQgAAEIQAACEIDAAxDAwD5AEUgBAhCAAAQgAAEIQKCfAAa2nxUtIQABCEAAAhCAAAQegAAG9gGKQAoQgAAEIAABCEAAAv0EMLD9rGgJAQhAAAIQgAAEIPAABC5vb28T/8EADaABNIAG0AAaQANoYBQNYGAx8NzAoAE0gAbQABpAA2hgKA1gYBHsUIId5c6QPHmKgQbQABpAA2jgPA1gYDGwGFg0gAbQABpAA2gADQylAQwsgh1KsNzNnnc3C1vYogE0gAbQwCgawMBiYDGwaAANoAE0gAbQABoYSgMYWAQ7lGBHuTMkT55ioAE0gAbQABo4TwMYWAwsBhYNoAE0gAbQABpAA0NpAAOLYIcSLHez593Nwha2aAANoAE0MIoGMLAYWAwsGkADaAANoAE0gAaG0gAGFsEOJdhR7gzJk6cYaAANoAE0gAbO0wAGFgOLgUUDaAANoAE0gAbQwFAawMAi2KEEy93seXezsIUtGkADaAANjKIBDCwGFgOLBtAAGkADaAANoIGhNICBRbBDCXaUO0Py5CkGGkADaAANoIHzNICBxcBiYNEAGkADaAANoAE0MJQGMLAIdijBcjd73t0sbGGLBtAAGkADo2gAA3sPA/vn5+nD5TJd0n8fps9/MmlGmTTkiVbRABpAA2gADdxXAxjY9zawYl5//sqTz/dmTzw0hwbQABpAA2jgKTSAgX1nIX//9cN0ufDElTvX+965wh/+aAANoAE0MLIGMLB3MbAfp6/vHHdkkZI7iywaQANoAA2gATSgNXCFgf06fUzvcM7vc7aeKn6fPv+0/b7n1591m8v04dfvxSPu8ORyNn6mv58+T9+tGfz9o3q/9DJd3J/re/PfEkzoZ8nXxP34e31uHkd9TBeGbfigATSABtAAGkADaMDXwEEDG81fYQy/Th+tmZT3PYvvv0+ff9amM/al28h5qv9g/ILJzea2zqP+ib5u8/bW+E7nYE1xcz/2tZj5/GS1yMMY2/yPt6JpV+NEqL5Q4QIXNIAG0AAaQANoQDRwzMBGg+k9YZSO58/lqeqGKWw9kSwM4NvbFPYvk41ZxghmMhvcWOjFQKonxJ3567G0t6OBteNsxGiNt90/YoUNGkADaAANoAE0gAa0Bo4ZWHmC+b+njtZQ5s4bZrJ4khlfB7Dmb25jDKA1tDmOKqg1qhLL9JWewK7mr/qVftzPaGA7n6JiYHu50s7VuKtBWMEKDaABNIAGfiwNHDSwMyTzLqp9B7YyjR7Y2Idn/uL58jS1x8CGNuW7tPrn+tJsb+TfbRQwsCwanrb5Dl2gATSABtAAGjhLA1cYWFWUaDbLf8i14wnsioEV09ljYN9aT2C3zKibvxrf6vkY2LPESb+9GqQdWkEDaAANoIEfSwO3MbCzwaueuK68HqAMYesndft9l4GtcthRzMPnYmBZNHboTGkfbnBDA2gADaABNHBMA8cM7O8fG3/mSv1DqflCLf/6vnjC2vgrBLpNNJPy+sBc3C4DK/9wzL7OYE1Db/72PHcfA8vkOzb54AY3NIAG0AAaQAPHNHDMwCZDqd83zX9CqihGNKP5XVRjchdTGE2g+ruy8uqA9NVrYOf2oa3O7TJdzD8Uq9s08ndNq4aNgZUa8al1wTZ6QANoAA2gATRwlgYOG9izEqJfxI4G0AAaQANoAA2gATSwpgEM7OYTVgS0JiCOoQ80gAbQABpAA2jgvTWAgcXAFv+Xve8tQOKx6KEBNIAG0AAaQAN7NYCB9Qxs9d6ueZ9W3tXV//DM64fvMMdoAA2gATSABtAAGri5BjCwiOrmotp7F0V77rzRABpAA2gADaCBPRrAwGJgMbBoAA2gATSABtAAGhhKAxhYBDuUYPfcndGWu3k0gAbQABpAA8+pAQwsBhYDiwbQABpAA2gADaCBoTSAgUWwQwmWO+nnvJOmrtQVDaABNIAG9mgAA4uBxcCiATSABtAAGkADaGAoDWBgEexQgt1zd0Zb7ubRABpAA2gADTynBjCwGFgMLBpAA2gADaABNIAGhtIABhbBDiVY7qSf806aulJXNIAG0AAa2KMBDCwGFgOLBtAAGkADaAANoIGhNICBRbBDCXbP3RltuZtHA2gADaABNPCcGsDAYmAxsGgADaABNIAG0AAaGEoDGFgEO5RguZN+zjtp6kpd0QAaQANoYI8GMLAYWAwsGkADaAANoAE0gAaG0gAGFsEOJdg9d2e05W4eDaABNIAG0MBzauAy8T8IQAACEIAABCAAAQgMRAADO1CxSBUCEIAABCAAAQhAYJowsKgAAhCAAAQgAAEIQGAoAhjYocpFshCAAAQgAAEIQAACGFg0AAEIQAACEIAABCAwFAEM7FDlIlkIQAACEIAABCAAAQwsGoAABCAAAQhAAAIQGIoABnaocpEsBCAAAQhAAAIQgAAGFg1AAAIQgAAEIAABCAxFAAM7VLlIFgIQgAAEIAABCEAAA4sGIAABCEAAAhCAAASGIoCBHapcJAsBCEAAAhCAAAQggIFFAxCAAAQgAAEIQAACQxE4aGC/TZ9eXqYX9d+nP4YaN8lCAAIQgAAEIACBgsC3X0pv8/LLt+I4O49D4CoD+/rb348zEjKBAAQgAAEIQAACNyHw9/Tl9WXCwN4E5imdnGpg//7ttXhKe5UQ/vi00VcUm3oqPD8hbj8Ztk+RP036PqvKXfp9/TJ5tt3etdVxbbzX6ctfdU339zPfLfp9pd7/+jK9xvzrvKbJxnx5KVks/ag+lifvDQ5L21Qrp5+UVNhIsb3+bMyXl6m8afJrPudXtptjOW29mCa/63b7at4Xw+a/VnMb169DYr/xhCG1a2moqpMXz+Z0cG5WsbaelmRutSYU+dTvGlc1V5rMcrz0C5XRWd/a4vTTXM8sW38Mm3VUOG61WY21ya0jYlpXYs2rviyHjbVxteY+/3pt8WKG/Oxaa/nX18PemNM0pdyz/gt9O8eTHud5XLFT2m7N81SiPOYiZjo+TbbuXjvLo2hzIP/NmE6fRUyVf9iM9XBYVU354i4ETjOwQZxqIRXxHBBDEKbqS8yIuTBYgiJou5C0vtfnhzbehVi3UgvJ2ricsVd8vDHF89YnmSw8mo/OsVwUSxbxWMFR2quxxwuHPjfkr9osIePC9su3aIrtcZ3XNE36glTkkI/pmNI+8+hdYHJeOYP4nY2bG1y31VXz3hBO/k5N5t56tC0cP/3h9KtTcsagDy/bMY+qJsVNUIija9nKs/V9Fdd+EXOtY7xOX/4IN3A5R31yngPflhvuxjxKvNeYecfid0pn3WuLTrNVW6dGt1xbTAq7dqs8nFx7OwzMdG1y3bwHCtJvlcNyIJ/brvm+tcXXlmQR12h9jXBZdMZMWsz9y5zeykOMr54n8p1nalWEtBmYBuNcx6v1nk5MG3Gceo2o1pHUuNxw5vk0dcQ8xKyzHmWG7L0jgXMMrCsyMSV6EeoY6Wpfa09x5r6DsItJ1urPpNJ3kekT+DLh1QUshCrPbcULi8WGEVwb0zJx80XcW7iK7+bk5JzlCbHDcG4TY2a2YTzS13beefweH++79BQ1XQhyH6Z85W4xnnyoxTy3OL7Vl39f/6t9aV2t6UBCLW1ET3HhTzyl0fzZw7bVpqEZ3b1cdHTsnvyLPvLOwsheEIVNpdXyPNFwbZJiu15mnTo7rrua66o2IttWvIpZxnL9VquWDUarAVf72rgGOOfO496seZf+56zrmqyORR2s+bfmkzppjji/oynaTod2nKvnSfc4Y6DE0x+3n1tKMmw0NNDSqT67Ztbioc9qtdlitnW8jMHe+xM4xcD6QoxicH/eXRl4Q+x9C0c9ybomWHraIRf6Rn7N3HT7Oofl6HLufBcbYjTz6omRFhUdd95Wsb028TtZzOXson7eeUvD9cntLTTS//ypY3hj989X4+nIIcWLrMVcy/deXDl23afNM/Zmat4Xo81ZM5z72j+ekKf75OUK3YW8vIusHnEde3/+sb+GjlO0reOxYch76wa7zjvF6dSZrVs6f3PD6sruxw6Mzppce2q8mZPfwB/jHa4BzfUr5N2ueXvelSNu1KBs5O4tdTlgJuvz5u478vDmwS4NaCZOvA3WAsHXY+hvfs3BrtNyXv3QJD9IaZ4TTz7GTI83ZcHGAxE4xcDWAhWxf9v/UnRzUkTB6yc4Bmwt2izIcKzx/lAyWPn48v6QuetNi3S6YMT2up2Tf3leuGCm78wY5Keh9gSNY9IxYx9FHZw85mYhbn4nSvZzPKmd/aGuHXfut2avBmZyKfJMzWRBE0MR94txxhziO1vyjpc15Dmf/OQl5Cd9p6C32TDjmztN9d11wQjp+HykTxlDv7bzINtzqMxXzQPN3xmL5Bp+ml25AYyMcq2O5K/4FEYgj3DZqmKZ43E3jFl4+m3EKLimP+l+XWcyx0Sv3triRQ+aVUw7dZZqaTuN61ae67bB8X3RQV41ZB15z2vA+ho1j65d8961RdYpNUfWTFhC6uW2N6Zo1VsbU6C0Ueknjf/T9G3tGhZ7KHUk9cwVTr/cxVd2sr6VZr0nvknHTp8p+8Y1Rdag1ZhzJ1KnPcxiPVY8hkqPzTsQON/AisCWn6OPCEImtZ4EIuZsvIRdmKSymIhY09H057+KRTtO3nwxlfb6UyZAziPFKgQe28mFPk3OuS8zfs0mtisvjBLT3pUKExlnzillXMTduFOV2IsRtMyEdfl9ugjLOFPgsOEtltJkOabOs/vSbv5MjBv/8EC3XbZjLUuOsZUcW8bpMKs6O/hFwX6l5r3de/pMNZO6NLTinZvixnMK/YaDiXtxzGh76buML3OovNilgHFD9Cvnzl8fyT/rWuLaSMt+ZLXaJl3MdU5eb21mqfVuncnYa02mOnhzs1dnohWvll1mK42se6OY04VOzHzo6lH0UvJJbIpxSduVtVHFbBtY1Ug2pa5FPDmYP2VtXNNbT5ulx5WYafw9a2NjDqQ+ijGZeb4kEr7LY7L7cjNgf3mRekjtyvqX60TdZ6LayF84lq9U2Jipl53XkzLX3Atbj0LgY/1OnAAACUVJREFUVANbP4U5KggRpCxKs6FbEbvQrRbucI5nbooFV863n3ExEfMbJr9MTNVYL9gxBzdf3W4+XfJdLlbzWOXOeOOiGvPKi4vDOeWh8kwXbfvEaOvGYG6//iSli01MxWcfayVP1hKbDRbJ9JZ1CfnIjUDWU2ZWcrlqL7F2NGpr3hso1jg91Xj9MpXz64i2N84R9jpHnb9sx6cfMi/m5uWFSXeQ2ev2ycAWF9Jwnq8PdczLU4eM9diqdch5S19tZnPIwzqL9S2Z6EGo9UEY7dFZmj+yhnauLSaF3l2pWanR+WxnberqNOtG5oC7ptq+ItdW7ftqnjsN9S3XlnxUtmKu6iZdjsyfyXRJHfVBZ7uOGTUouk+1bWu37iMEan2fnqbGv5SztCvGE3LQXJssk06X0adfYXv6FBytPPtizr3sZ3Zcq5I1n2cTOMXApglaCD6LSIv+8ACLSdHuJeQiC0578awnk9NnjCn5l32r9nJhV/8Ial507cWpeb7qqqfN3Fzn757j8Wos7uH8Ol+VVloQhEV5TC7kwl2O1ouezT20lIuVf355ty1958+Qf17MW+MJi2Jul3u4dksWy5qhW5uD4XTN1xbbsp0OFvN0LqTNPLW2o6a8P+PWihmY5xumnM2BuWnmY+7LbHW2s7oxvcTdLWZ1zcOYN3S2K0eZF9fprFljf+C7vg1926dxcxch59a6sStIZGbXVdtHS4tzu76a5x5724eaS53y+fJK2NYaps4wOR5YG1e01dSAnud6OyXm1NFtl2+8pE6yBlQPklr1XMnfGu2UXtHXAWZLR+01KcVh464ETjGw8iRRBJtG2BK43JU7Ji+dazaWiVcZZNMoLVB5IfEXsz6hVotXYzx2UTgeM+TVs9jnGDJZ5UmL/znXJuRZX3BlkV2Nu4w9c7XkwyJlji/n+PnIU5WwsMcLc1VfGZvptwge26hzQy61gdga/56LTJGCuaHIx2JujmEU5v0xAyM9x7IGcsQ1YytmorqQzKd3abs1HufiJkxW/hHn3vxdjemhy/baBVDapLWi1olqkgyYx2y3zlTH1dqijunN91lbZJ45a4NOZm27MBCqYUNXcs2Qf9SqzmhuLizUPG819HUVWvdyj63D08PNmHH9svNc1r/N8/VI7Hq2f21cnSeNemidhfPX1+3lWtFb846YmsBq/l0x9zMr6m3rqJNj+64EzjGw6WKljMbaRSQeW0zMplhkcVV9txDGBaMwYk4eXYuY15cYb70gOf3L4qzzWJ2U83iEySaPFSOqucT+tOFJMXT+MqaV/3OEkPv6hX5zfCq3pW2RgzzBNRfQWAPPPEh3bm7ueXFRk5/hpINkZMKCXfBSbTY3HR2sMQnH5pjrXJe4rhazZrTO1rXduNAuQeyF0+9fjHfm5JyX1gPvyasi6TBr5u+0VT2Vm51tm7GK3laY7dRZ6rZVz9QgbnjtnLGt6WzpKZ7TnkcyN7wnqDap9n6Vh5OrnB3Y9865/muA9Jv1KRHDZ1/NQ9swnq352chNtGHWuTKbes+LGb7rXBtXmEcCtSnfPGc+M2hErzXLt8v/Dau+NnvzxVkjIp+qTh25VDqT1wXUtXMXs1SGmKfqJx1i4yEInGZg59GJaOTpmhV7JiCT3kzK2KCvH7Xo6ndIc5C8FSeF5OXd9duYbWORc5f+qkk4R96MafNvLJRVP50XmXhelZvXnzF1chGQ8bUufDUzdde+sggs5zkLu9dfqSHLbIWFXECSNlbaygK44xeBLC61VbHVC7tqN29Kfg6Hbe2ovjZjOswUk1IfndqW3KUfO4YqJ6ULy7hq6zML2mjMkRlH1Y+Omc+rtC1jmD/TOHYwsyyKfkKdal3nfHIlvZg+i3qstp3ty4uXI89biUtiUB7v3bNjLeev6iXVy+Ye2nT1k/pQtXbyT2PTtZbt1N4y03rw8lYxq7WunkdpLZ3jpvadMZ1r69yfx3ZznixDqfMr1wE13rQZcm3HzDy8NumXIeFu14EYpy//Pq9hNdRiloYoD3NSffIRth6DwKkG9jGGSBYQ2E+gd+Hc3zNnQGAAAmIGuXgPUCxSPIdANPbMgXPw3qBXDOwNINLFkxGIT9H8JwdPNlaGA4GKgDyR85+GVs35AgJPSQAD++hlxcA+eoXI7x0J5J/wtn9Ce8e0CAWBdyKQfl5PP6W/U2DCQODhCGBgH64kJqGrDKx+j4cLviHLLgQgAAEIQAACQxGo3pXlFYKHrd9BA/uw4yExCEAAAhCAAAQgAIEnJ4CBffICMzwIQAACEIAABCDwbAQwsM9WUcYDAQhAAAIQgAAEnpwABvbJC8zwIAABCEAAAhCAwLMRwMA+W0UZDwQgAAEIQAACEHhyAhjYJy8ww4MABCAAAQhAAALPRgAD+2wVZTwQgAAEIAABCEDgyQlgYJ+8wAwPAhCAAAQgAAEIPBsBDOyzVZTxQAACEIAABCAAgScngIF98gIzPAhAAAIQgAAEIPBsBDCwz1ZRxgMBCEAAAhCAAASenAAG9skLzPAgAAEIQAACEIDAsxHAwD5bRRkPBCAAAQhAAAIQeHICGNgnLzDDgwAEIAABCEAAAs9GAAP7bBVlPBCAAAQgAAEIQODJCWBgn7zADA8CEIAABCAAAQg8GwEM7LNVlPFAAAIQgAAEIACBJyeAgX3yAjM8CEAAAhCAAAQg8GwEMLDPVlHGAwEIQAACEIAABJ6cAAb2yQvM8CAAAQhAAAIQgMCzEcDAPltFGQ8EIAABCEAAAhB4cgIY2CcvMMODAAQgAAEIQAACz0YAA/tsFWU8EIAABCAAAQhA4MkJXP7v//5v4j8YoAE0gAbQABpAA2gADYyigct///vfif9ggAbQABpAA2gADaABNDCKBi7/+c9/Jv6DARpAA2gADaABNIAG0MAoGrj8+9//nvgPBmgADaABNIAG0AAaQAOjaODyz3/+c+I/GKABNIAG0AAaQANoAA2MooHLP/7xj4n/YIAG0AAaQANoAA2gATQwigYu//rXvyb739vb28R/MEADaAANoAE0gAbQABp4RA1gYDHr3KygATSABtAAGkADaGAoDWBgEexQgn3Eu0By4ukEGkADaAANoIH31QAGFgOLgUUDaAANoAE0gAbQwFAawMAi2KEEyx3u+97hwhveaAANoAE08Iga+H8a6YtPfN8E+gAAAABJRU5ErkJggg==)"
      ],
      "metadata": {
        "id": "ES6gjtU4zqHe"
      }
    },
    {
      "cell_type": "code",
      "source": [],
      "metadata": {
        "id": "sZ1Ay48Wzcre"
      },
      "execution_count": null,
      "outputs": []
    }
  ]
}