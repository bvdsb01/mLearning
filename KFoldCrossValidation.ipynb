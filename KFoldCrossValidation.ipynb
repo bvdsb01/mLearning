{
  "nbformat": 4,
  "nbformat_minor": 0,
  "metadata": {
    "colab": {
      "provenance": [],
      "authorship_tag": "ABX9TyOTTwWgqZzP5m4bMNwv4k/O",
      "include_colab_link": true
    },
    "kernelspec": {
      "name": "python3",
      "display_name": "Python 3"
    },
    "language_info": {
      "name": "python"
    }
  },
  "cells": [
    {
      "cell_type": "markdown",
      "metadata": {
        "id": "view-in-github",
        "colab_type": "text"
      },
      "source": [
        "<a href=\"https://colab.research.google.com/github/bvdsb01/mLearning/blob/main/KFoldCrossValidation.ipynb\" target=\"_parent\"><img src=\"https://colab.research.google.com/assets/colab-badge.svg\" alt=\"Open In Colab\"/></a>"
      ]
    },
    {
      "cell_type": "markdown",
      "source": [
        "# **KFoldValidation helps to decide which model to choose like SVM or DecisionTree and also for parameter tuning.**\n",
        "\n"
      ],
      "metadata": {
        "id": "rVV1OCpU3YYd"
      }
    },
    {
      "cell_type": "markdown",
      "source": [
        "# Cross Validation is a technique to evaluate model's performance as there are many models to classify our dataset, e.g. Iris data classification was done using Logistic Regression, SVM, Random Forest, Decision Tree algorithm."
      ],
      "metadata": {
        "id": "n3GlW3uVr6tB"
      }
    },
    {
      "cell_type": "markdown",
      "source": [
        "sample kaise hai usse bahut variation aata hai, training ka sample kaisa hai usse model ke score vary karte hain.\n",
        "\n"
      ],
      "metadata": {
        "id": "1aX4CpYBr8_9"
      }
    },
    {
      "cell_type": "code",
      "source": [
        "from sklearn.linear_model import LogisticRegression\n",
        "from sklearn.svm import SVC\n",
        "from sklearn.ensemble import RandomForestClassifier"
      ],
      "metadata": {
        "id": "Ln2U5cwur7eW"
      },
      "execution_count": 1,
      "outputs": []
    },
    {
      "cell_type": "code",
      "source": [
        "import numpy as np\n",
        "import matplotlib.pyplot as plt"
      ],
      "metadata": {
        "id": "kO4OvdyZr9ZX"
      },
      "execution_count": 2,
      "outputs": []
    },
    {
      "cell_type": "code",
      "source": [
        "from sklearn.datasets import load_digits\n",
        "digits = load_digits()"
      ],
      "metadata": {
        "id": "1wq4rU-4sXQY"
      },
      "execution_count": 3,
      "outputs": []
    },
    {
      "cell_type": "code",
      "source": [
        "from sklearn.model_selection import train_test_split\n",
        "X_train, X_test, y_train, y_test = train_test_split(digits.data, digits.target, test_size = 0.3)\n",
        "#everytime above line of code runs, new train and test samples are created (randomly)"
      ],
      "metadata": {
        "id": "8PZCOAa5sdlT"
      },
      "execution_count": 10,
      "outputs": []
    },
    {
      "cell_type": "markdown",
      "source": [
        "which means hamare samples kaise hai usse bahut variation aata hai, if you re-run above and below cell output will be different.\n",
        "\n",
        "So k-cross validation works like, will run above cell 10 times and what ever the score comes will take averge of them."
      ],
      "metadata": {
        "id": "9e_3GWb3txG0"
      }
    },
    {
      "cell_type": "code",
      "source": [
        "lr = LogisticRegression()\n",
        "lr.fit(X_train, y_train)\n",
        "lr.score(X_test, y_test)"
      ],
      "metadata": {
        "colab": {
          "base_uri": "https://localhost:8080/"
        },
        "id": "iHAdXhRRsw2i",
        "outputId": "bb098d31-efe1-425a-f3f2-a90eebb88fb0"
      },
      "execution_count": 11,
      "outputs": [
        {
          "output_type": "stream",
          "name": "stderr",
          "text": [
            "/usr/local/lib/python3.10/dist-packages/sklearn/linear_model/_logistic.py:458: ConvergenceWarning: lbfgs failed to converge (status=1):\n",
            "STOP: TOTAL NO. of ITERATIONS REACHED LIMIT.\n",
            "\n",
            "Increase the number of iterations (max_iter) or scale the data as shown in:\n",
            "    https://scikit-learn.org/stable/modules/preprocessing.html\n",
            "Please also refer to the documentation for alternative solver options:\n",
            "    https://scikit-learn.org/stable/modules/linear_model.html#logistic-regression\n",
            "  n_iter_i = _check_optimize_result(\n"
          ]
        },
        {
          "output_type": "execute_result",
          "data": {
            "text/plain": [
              "0.9777777777777777"
            ]
          },
          "metadata": {},
          "execution_count": 11
        }
      ]
    },
    {
      "cell_type": "code",
      "source": [
        "svm = SVC()\n",
        "svm.fit(X_train, y_train)\n",
        "svm.score(X_test, y_test)"
      ],
      "metadata": {
        "colab": {
          "base_uri": "https://localhost:8080/"
        },
        "id": "g-96uSHjsuRe",
        "outputId": "ba123019-ef1f-4ac4-c6ee-632200787635"
      },
      "execution_count": 7,
      "outputs": [
        {
          "output_type": "execute_result",
          "data": {
            "text/plain": [
              "0.9907407407407407"
            ]
          },
          "metadata": {},
          "execution_count": 7
        }
      ]
    },
    {
      "cell_type": "code",
      "source": [
        "rf = RandomForestClassifier(n_estimators = 50)\n",
        "rf.fit(X_train, y_train)\n",
        "rf.score(X_test, y_test)"
      ],
      "metadata": {
        "colab": {
          "base_uri": "https://localhost:8080/"
        },
        "id": "2P5PsD-otC6K",
        "outputId": "da150f62-8ae7-4228-ccf6-f548b558d686"
      },
      "execution_count": 9,
      "outputs": [
        {
          "output_type": "execute_result",
          "data": {
            "text/plain": [
              "0.9777777777777777"
            ]
          },
          "metadata": {},
          "execution_count": 9
        }
      ]
    },
    {
      "cell_type": "code",
      "source": [
        "from sklearn.model_selection import KFold\n",
        "kf = KFold(n_splits = 3)  #how many folds\n",
        "kf"
      ],
      "metadata": {
        "colab": {
          "base_uri": "https://localhost:8080/"
        },
        "id": "mUI6R2ButSGo",
        "outputId": "a4822bb4-fa54-42d5-f2b5-bdc2d5df0785"
      },
      "execution_count": 12,
      "outputs": [
        {
          "output_type": "execute_result",
          "data": {
            "text/plain": [
              "KFold(n_splits=3, random_state=None, shuffle=False)"
            ]
          },
          "metadata": {},
          "execution_count": 12
        }
      ]
    },
    {
      "cell_type": "code",
      "source": [
        "kf.split([1,2,3,4,5,6,7,8,9]) #returns a generator"
      ],
      "metadata": {
        "colab": {
          "base_uri": "https://localhost:8080/"
        },
        "id": "8n7OrfPwvZNe",
        "outputId": "c16b0bdc-e49e-4132-de83-aff29be4b69f"
      },
      "execution_count": 13,
      "outputs": [
        {
          "output_type": "execute_result",
          "data": {
            "text/plain": [
              "<generator object _BaseKFold.split at 0x7d111fcd4cf0>"
            ]
          },
          "metadata": {},
          "execution_count": 13
        }
      ]
    },
    {
      "cell_type": "code",
      "source": [
        "for train_index, test_index in kf.split([1,2,3,4,5,6,7,8,9]):\n",
        "  print(train_index, test_index)\n",
        "\n",
        "#In iteration 1, 6 samples are in training(2 folds) and 3 samples in test(1 fold)"
      ],
      "metadata": {
        "colab": {
          "base_uri": "https://localhost:8080/"
        },
        "id": "Qdr5V85lviqN",
        "outputId": "1953958a-8329-4ecb-f650-32e15e3d1fef"
      },
      "execution_count": 15,
      "outputs": [
        {
          "output_type": "stream",
          "name": "stdout",
          "text": [
            "[3 4 5 6 7 8] [0 1 2]\n",
            "[0 1 2 6 7 8] [3 4 5]\n",
            "[0 1 2 3 4 5] [6 7 8]\n"
          ]
        }
      ]
    },
    {
      "cell_type": "code",
      "source": [
        "# defining a utility function\n",
        "\n",
        "def get_score(model, X_train, X_test, y_train, y_test):\n",
        "  model.fit(X_train, y_train)\n",
        "  return model.score(X_test, y_test)"
      ],
      "metadata": {
        "id": "1XR4BALnvymO"
      },
      "execution_count": 16,
      "outputs": []
    },
    {
      "cell_type": "code",
      "source": [
        "get_score(LogisticRegression(), X_train, X_test, y_train, y_test)"
      ],
      "metadata": {
        "colab": {
          "base_uri": "https://localhost:8080/"
        },
        "id": "4puXvRj3wew1",
        "outputId": "55dad018-4e7b-4500-b32c-5c721f9b418c"
      },
      "execution_count": 17,
      "outputs": [
        {
          "output_type": "stream",
          "name": "stderr",
          "text": [
            "/usr/local/lib/python3.10/dist-packages/sklearn/linear_model/_logistic.py:458: ConvergenceWarning: lbfgs failed to converge (status=1):\n",
            "STOP: TOTAL NO. of ITERATIONS REACHED LIMIT.\n",
            "\n",
            "Increase the number of iterations (max_iter) or scale the data as shown in:\n",
            "    https://scikit-learn.org/stable/modules/preprocessing.html\n",
            "Please also refer to the documentation for alternative solver options:\n",
            "    https://scikit-learn.org/stable/modules/linear_model.html#logistic-regression\n",
            "  n_iter_i = _check_optimize_result(\n"
          ]
        },
        {
          "output_type": "execute_result",
          "data": {
            "text/plain": [
              "0.9777777777777777"
            ]
          },
          "metadata": {},
          "execution_count": 17
        }
      ]
    },
    {
      "cell_type": "code",
      "source": [
        "get_score(SVC(), X_train, X_test, y_train, y_test)"
      ],
      "metadata": {
        "colab": {
          "base_uri": "https://localhost:8080/"
        },
        "id": "NGusSaC7wn8Z",
        "outputId": "20bc3995-dee9-43f4-94f4-1b9f110d2e84"
      },
      "execution_count": 18,
      "outputs": [
        {
          "output_type": "execute_result",
          "data": {
            "text/plain": [
              "0.9925925925925926"
            ]
          },
          "metadata": {},
          "execution_count": 18
        }
      ]
    },
    {
      "cell_type": "code",
      "source": [
        "get_score(RandomForestClassifier(), X_train, X_test, y_train, y_test)"
      ],
      "metadata": {
        "colab": {
          "base_uri": "https://localhost:8080/"
        },
        "id": "wMV1Vtkrws5K",
        "outputId": "0f2349a1-5aff-4df2-e775-438c878bb8b7"
      },
      "execution_count": 19,
      "outputs": [
        {
          "output_type": "execute_result",
          "data": {
            "text/plain": [
              "0.9796296296296296"
            ]
          },
          "metadata": {},
          "execution_count": 19
        }
      ]
    },
    {
      "cell_type": "code",
      "source": [
        "# Now using KFold we will evaluate the performance of all the three models/algorithm\n",
        "from sklearn.model_selection import StratifiedKFold\n",
        "\n",
        "# StratifiedKFold is a KFold only what it does is when we split, according to the output class labels it creates the fold uniformly, by mix and match."
      ],
      "metadata": {
        "id": "1f_FCTV9wvrQ"
      },
      "execution_count": 27,
      "outputs": []
    },
    {
      "cell_type": "code",
      "source": [
        "folds = StratifiedKFold(n_splits = 3)\n",
        "scores_logistic = []\n",
        "scores_svm = []\n",
        "scores_rf = []\n",
        "\n",
        "for train_index, test_index in folds.split(digits.data, digits.target):\n",
        "  X_train, X_test, y_train, y_test = digits.data[train_index], digits.data[test_index], digits.target[train_index], digits.target[test_index]\n",
        "  scores_logistic.append(get_score(LogisticRegression(), X_train, X_test, y_train, y_test))\n",
        "  scores_svm.append(get_score(SVC(), X_train, X_test, y_train, y_test))\n",
        "  scores_rf.append(get_score(RandomForestClassifier(n_estimators = 100), X_train, X_test, y_train, y_test))\n",
        "\n",
        "#In sklearn there is cross_val_score method that uses above code as internal working and is a one-liner code"
      ],
      "metadata": {
        "id": "fWfMsmHkw7w2"
      },
      "execution_count": null,
      "outputs": []
    },
    {
      "cell_type": "code",
      "source": [
        "scores_logistic"
      ],
      "metadata": {
        "colab": {
          "base_uri": "https://localhost:8080/"
        },
        "id": "fo41JIT6yUo5",
        "outputId": "ea640ff2-f619-4358-fa6a-bc9c3893cdd9"
      },
      "execution_count": 43,
      "outputs": [
        {
          "output_type": "execute_result",
          "data": {
            "text/plain": [
              "[0.9215358931552587, 0.9415692821368948, 0.9165275459098498]"
            ]
          },
          "metadata": {},
          "execution_count": 43
        }
      ]
    },
    {
      "cell_type": "code",
      "source": [
        "scores_svm"
      ],
      "metadata": {
        "colab": {
          "base_uri": "https://localhost:8080/"
        },
        "id": "UTZd3EnjzYBf",
        "outputId": "32df46f5-0f21-45c9-8b8c-705428bf9988"
      },
      "execution_count": 44,
      "outputs": [
        {
          "output_type": "execute_result",
          "data": {
            "text/plain": [
              "[0.9649415692821369, 0.9799666110183639, 0.9649415692821369]"
            ]
          },
          "metadata": {},
          "execution_count": 44
        }
      ]
    },
    {
      "cell_type": "code",
      "source": [
        "scores_rf #after hypertuning n_estimators parameter"
      ],
      "metadata": {
        "colab": {
          "base_uri": "https://localhost:8080/"
        },
        "id": "yjPmJ_Xuzb5V",
        "outputId": "6d146e54-343e-4679-ca2d-d6a46f1c3b5e"
      },
      "execution_count": 46,
      "outputs": [
        {
          "output_type": "execute_result",
          "data": {
            "text/plain": [
              "[0.9449081803005008, 0.9616026711185309, 0.9282136894824707]"
            ]
          },
          "metadata": {},
          "execution_count": 46
        }
      ]
    },
    {
      "cell_type": "markdown",
      "source": [
        "Before hypertuning RandomForestClassifier()\n",
        "\n",
        "![image.png](data:image/png;base64,iVBORw0KGgoAAAANSUhEUgAAArAAAAFYCAYAAACru8/EAAAgAElEQVR4Ae2dQY7kNtJG8yp1ogZ8g7qI0ZuGr9FeNnyJ9troG3jRiwEMGJjZDQoYYH79I5FBBoNBiVKmKpPZbwAjpRTFCL74SH1SqmsuE/+DAAQgAAEIQAACEIDAQAQuA+VKqhCAAAQgAAEIQAACEJgwsIgAAhCAAAQgAAEIQGAoAhjYocpFshCAAAQgAAEIQAACGFg0AAEIQAACEIAABCAwFAEM7FDlIlkIQAACEIAABCAAAQwsGoAABCAAAQhAAAIQGIoABnaocpEsBCAAAQhAAAIQgAAGFg1AAAIQgAAEIAABCAxFAAM7VLlIFgIQgAAEIAABCEAAA4sGIAABCEAAAhCAAASGIoCBHapcJAsBCEAAAhCAAAQggIFFAxCAAAQgAAEIQAACQxHAwA5VLpKFAAQgAAEIQAACEMDAogEIQAACEIAABCAAgaEIXN7e3ib+gwEaQANoAA2gATSABtDAKBrAwGLguYFBA2gADaABNIAG0MBQGsDAItihBDvKnSF58hQDDaABNIAG0MB5GsDAYmAxsGgADaABNIAG0AAaGEoDGFgEO5RguZs9724WtrBFA2gADaCBUTSAgcXAYmDRABpAA2gADaABNDCUBjCwCHYowY5yZ0iePMVAA2gADaABNHCeBjCwGFgMLBpAA2gADaABNIAGhtIABhbBDiVY7mbPu5uFLWzRABpAA2hgFA1gYDGwGFg0gAbQABpAA2gADQylAQwsgh1KsKPcGZInTzHQABpAA2gADZynAQwsBhYDiwbQABpAA2gADaCBoTSAgUWwQwmWu9nz7mZhC1s0gAbQABoYRQMYWAwsBhYNoAE0gAbQABpAA0NpAAOLYIcS7Ch3huTJUww0gAbQABpAA+dpAAOLgcXAogE0gAbQABpAA2hgKA1gYBHsUILlbva8u1nYwhYNoAE0gAZG0QAG9moD+336/NNlulzkvw/T5z/fawLk2B9/f6eYf36ePixj/Th9vZrdO+VMntykoAE0gAbQABp4Kg1gYG8p6N8/TpfLmAb2+68f/mfCO0wpBvapFoBR7rTJk5s9NIAG0AAa0BrAwA5tYG8n5m4De0te9IUZRgNoAA2gATSABg5oAAN7AJq+Ayi23/0JLAa24H/LWtIXCyoaQANoAA2ggYfVwBUG9uv0Mb33Ob//2frpPL+nGd4T9dt9/VneIQ2fH379XkDLTwhNfz99nr5bgS1GUvX389eir2B6evPfYRI3DWxfTMsivV+bxmEYNNm/TW/pJ3/hoV8TsPlIG/lUbW0/HndVh1Av6ecy2XpiPHfoSnGFG9zQABpAA2gADbxNBw1sND7JUM1i+jp9tKZGTE/x/ffp88/adMa+dBs5T/WvDVE2Q3UeoZ02yXWbJdfZfKv+3fz3Goc1AxtNdc79bZIx6X+AFcyrMo7OeYVw12JGjjrmYmiLcYeFIOSi4q6MfclR16toK+Za12Ae68d3/MdtLG6FRor6wAY2aAANoAE0ML4GjhnYaIy08fLEsG50AryWcbJG1DN7c8wyRjCrhWGbL97W5HXm741p9TsbJxmHaOoq4xi/T2bQy9+2MaJrxnTGnfIxfbyJmb6BgV3LZyX+KlfOc35BqGsIQ5igATSABtDAj6KBYwZ2ftoaXx9om1jPjFlhrZgzYzKtoXUL1DJPpq/0BPZ/Y2jnb3Pt2N+IXxlraxxjnmW7lvmN+bRizqYv9td+vSOPqXUj4XEubxpyH3PbtWNeX3xX8oMHPNAAGkADaAANbGvgoIGdO47GKr0HW/5kLOZp3SCumDNj5noMrDylTe+MptzCu5hlLhv5H3nq1zKTlYHOhbHjWgyg/nNWS58rRrsVM+WfbzYCF/8p620M7Eo9Uz557ExQWKABNIAG0AAaQANHNHCFgVXA3Sd9O57AVj+t56eHYjqt0XMHu2nmVM7aULn5N9rq8+x2K/6mgRVTaU21Z7xNXq2YNrd5f2k79ynxcl+3MbA8gXV16dWC73gtAg2gATSABtDAYQ3cxsDOBahMWjRj6f3ObJb0Rb5lnOz3XQa2ysGPqeOn7WvOFQE2zWTryaT5vnn+yjj2ntNq3/pexqY+114T6KqT6ivx57vDkxiGK/MDXaErNIAG0MBTauCYgf39Y/VnkVzjspgi+6/9G3+FQD+FjWZSvwvq9u+IMvwEb15nsO1687fnbe2vmcDIQp4oz6ajGtMRE70Sc+5fx5tjVq8oyJhi7PIvM/jGYM3A5veLy6e8/BUCnyXmEy5oAA2gATSABvZr4JiBTeYr/51P72fppSBijNL7qJ65tO9p1u98VmZPjJfzGdrq3C7TxTwJrtuUhqtbTNX4VFwTM/+EL23qmHVesa3ua0fMYFglXs2hGKfccKRa5fyaeV28v/Favwqhb0aKmE79OL5/IsMMZmgADaABNPAjaeCwgf2RIL3XWMUk2qem8npGz9PR98qVOCyUaAANoAE0gAbQwL00gIF9oCeAzZ/35c+W6dcsHijve4mXuCycaAANoAE0gAZ+TA1gYB/ICLaewMprANWT2QfKnQXkx1xAqDt1RwNoAA2ggXtoAAPrmcC1d0zT+6H2H6fdRsBiYsu/ZZvfRb2HSIh5m9rCEY5oAA2gATSABm6jAQysZ2D57in/5AaLxm0WDTjCEQ2gATSABu6tAQwsZhWzigbQABpAA2gADaCBoTSAgUWwQwn23nd8xOepAxpAA2gADaCB+2sAA4uBxcCiATSABtAAGkADaGAoDWBgEexQguWu9/53vdSAGqABNIAG0MC9NYCBxcBiYNEAGkADaAANoAE0MJQGMLAIdijB3vuOj/g8dUADaAANoAE0cH8NYGAxsBhYNIAG0AAaQANoAA0MpQEMLIIdSrDc9d7/rpcaUAM0gAbQABq4twYwsBhYDCwaQANoAA2gATSABobSAAYWwQ4l2Hvf8RGfpw5oAA2gATSABu6vAQwsBhYDiwbQABpAA2gADaCBoTSAgUWwQwmWu9773/VSA2qABtAAGkAD99YABhYDi4FFA2gADaABNIAG0MBQGsDAItihBHvvOz7i89QBDaABNIAG0MD9NXCZ+B8EIAABCEAAAhCAAAQGIoCBHahYpAoBCEAAAhCAAAQgME0YWFQAAQhAAAIQgAAEIDAUAQzsUOUiWQhAAAIQgAAEIAABDCwagAAEIAABCEAAAhAYigAGdqhykSwEIAABCEAAAhCAAAYWDUAAAhCAAAQgAAEIDEUAAztUuUgWAhCAAAQgAAEIQAADiwYgAAEIQAACEIAABIYigIEdqlwkCwEIQAACEIAABCCAgUUDEIAABCAAAQhAAAJDEcDADlUukoUABCAAAQhAAAIQwMCiAQhAAAIQgAAEIACBoQgcNLDfpk8vL9OL+u/TH0ONm2QhAAEIQAACEIBAQeDbL6W3efnlW3GcncchcJWBff3t78cZCZlAAAIQgAAEIACBmxD4e/ry+jJhYG8C85ROTjWwf//2WjylvUoIf3zq6GvHk+G/vkyvyxPk1+nLXzXbKnd52vz6Zcq2vY738uL0Z3OXvl4+Tfberrr7c9pMU5xYqZ86ppv/yp1kiuu16czfjTnnWDCbpimxlzvdOv+pM+ZcuZR74lFyrY9L3PnTiV3L4eA3Vh/XxNqueZlkjt260UxcvJpP+Xz9S8u87f7aYmtqa+7Uyeun0pDTzzJORx9VfzantVqntl6NLPugnyqeKkBiGzVZte3Jv5NZDptr5tXc5vTiri25t1tsVfV0tdYZyTJr9pXr5XHI0TKvoHG9buQ+rP6rPpN2ZF0xGqqOS7v4mcaxI2YaRB6DzatiL+tjNadsXJO/Eysw8dtZnVXaX/qzMZ3rRIpbXjO8/rpiOnWwzHTIdJ1N9SmPsnd/AqcZ2CAoJXARzwExhImo+hIDV0zEMJG1uGUC6++SKF+/TN8Wg637zQUJ5+oFLR9b26rGPTdeFl4/Tu4rTuhiTDLJdR5xwdIc48JejjP3vGy1+KdznX6li678p6mL2ZJHyeJ8ZjKQ8nOJW/Auj1+15/B2x9kVxKlNqpvfQYgVLpDVIp3OdfpN3YVj1bnpeN7YHpej7chH97/op6hHzK/4TnRWaqia6706U2vJ2nqQRxu2qnjSwKm7HJLPcO5G/iqvdMPsMJM+5892zR3+0v+JJrbSRQcbPR69XTPzxqS08Ud4QKH1VffXuBlbGsb+9TqrO5Dtbp3JCeoz8sjrdmdM1UW75sJCXzvUiWnTWQPS+pAa5YcOikdVX9GUnq+uZp2YcsOsz03hIxf3ZtDRgRfTG1P8rqWR5BXUmFNKbDwEgXMMbDUx41gXwZQL9yaF1b7WFqC553qizJNOBFsvijmbcGxr8uf2acvLt2fc3nlzp+bcZdGoJrkziVNCeaM6d4kpY6xZpTNNDul7s3EtM6nL0m1PzE5mJs2wG88tYroNj31ZsV662X+Bmk9b7avSQn5a8emPUNNijL01j3OnONdD0VGnli6WcW0YqHqOthg6Y7X5OjWfc5Ax1rFsB3rfi9fKTZ/XalP2t5tZmgtlP0vkdEznUa8t5uh1u7eMudqXugbMWpT5EM+R2haDafVXNGrVqWjk76zFVmfU+t8ZM43DqfnUZ2B715bVdtHgdWu2sWa0zk/XwHhTkg1/e4yWbU/+qjRxc2c96g745mQCpxhYX4hRDC/5gtE1tobYxZy6C1TqOEzs1qsLIU/fUPtjSB23N9Kiopo0x6DaNBa9Mo/2hCrbqX7Vpj+JpcEKq578OxdMiVZ8emPviemd15mHXeCKfK7e8S8o+bUIuWnoCbS35rp9I48UdqXmXQZWx0qdVhtN3XXUuJ6jMaYYFYnmzTs5Jp8NvcjhOpYc8T4dth3jSU91NvLfx0zXwcmrMe6eNcMbec93ft8xz/e4BjTGPOfeZFsMTDMtDmzvrMROJ7tt9sTUbZ2ad62Duo+U2bJR1s/v365nTa52Xiz76sYjhvbPV7EjM21g/XPqm7OlXXWzrPouhx/32nzc5nz57gROMbC1qEQo3/a/FO2INlAKfbbM6dLGXSQy47ULVjhm3lWyF53cVdyKgrft4oQt36WqTUyKWdzRlhO9ZhtCr41ladFYNPIQVnjuzV/etZo/LYscMG95ue2NucIsB4pbG7qo2u/9wtFsqM+n6dsyLv+mqRVmT81TnKUzmXfpR2gTYqXm8uuFrmX1/qv0H+e1aqsvMmVOKgWv7urwvOleeCLf9A6n7G/91LcRb3MOqdy8vNI4rXbtHJB85YIq+yr/1JeKuWw6YyjbSk3Kmoc2+R+kyL6ukw11zX6tWcnrna4BkWn9gCObklDDvMaXbWM7pel5/S7bNAg5NbItPf2km5uOmLtqrvszWqzrFDIN/cd1KrLUWknxl7GGduk7O1iHh7AXnmG/XheL/Nby2IwZ17r0HnzcNzzKbrJWyu/ZexQC5xtYJfA0QdVCvQ1CFpLS8MkEaBtYOa+eFBKzmKTyZfNTJkCZRxpTWiTsca/DldzkYrb05+QeFwOZ+Evv6RzTPrYV41ycU6UVx9dVm5X8i35bzHSjnjZz+5WYafzzxcgw0KHidtBOT52ck3u+KhbamLdwLeZDT2fyNMFcPNOY9XgDy1xnu2/jRfaSmz1s9sN8UXm4OcjPeurGS9oVcaTuqp2Jl57wFOdJI9FD4z1faZY+JV677lvrQVpzGnMzHS/yjXGrC+VG/t3MQv9dNZc+G/knVDfYWFjImAvNm/nQFUtYlbXzeccO41gzFwkkOjC689ZVOUU+ZT0t6isH5VP6L3OVo8tnM7eiVdhxY+6oedGlk5s37qSTuLbE/WBgTf2W88t25TVZYhrec14ytkWPDq8irn41Sg1Kci1q0o6ZNDPHLM5RfaZNM9b0PRuPQuBUAxv+UYQW5lFByAKW75bd9/sS1dxe3zWmw3Fj64Jl28uEW+tT2tQLp+ktTjzdzhqENNnsRCsmfnjKWbM28ZIB1PXQbeKkt7F0E73t5K8Pp+2Yq89MFhptwtKZ9YYTs5uZ9Ob0IYdu9hljuBrVC/6egB01L0zD0nfgqzVWhtxZc9GQGJMmS2eex7ZyM7U8PV1jIeOVWDpx6UuOSVt5oqnbKg5bNze71gPJQc2XMF+d+WXHKedu5S/tlgv8vPbVT/B7a757nlQM930hedXrkqONrq7zmi4acueX9BXZ1dpva15yLp9dS4fhs1nj5XDferbeRxlv3rPt6zy35rnqM86VYj1O8ydeX9M/cI5ajixd3i1tr2g2j0lMba5trpejk5SHGs+82TFP5JXD6leb1QceTg4mNLv3JXCKgZXFsv75eMdE2+LSEnOa8OpJUaOvXResuY8YM08yv+N6gfHamYU0LiK2b2FZLDhOd10xV5ilCa4uyE4Y9ZXJXx0pNpvM8qK1Nbbcn4l5gJm9GOS+b7kV86x+cpenk47JORC+qLm9kCz9hTyspnIowzMfaG6V/Fr99y38QdsOi6iZdLEpsok5i/mTY3JOpd9+ne1dD2z+dl9SCze1cpO2N//Uy7JRxOit+YF5Ukbdvxfy9F4hamlmfwxZj931Y2vdqXTS925sGJfUUufcqbNmXrqvcruI2Vvzsou81xm/WFvU60SWdaHHHKXYsm3CvpjX3DSsLYGtPWdpFXO3OeQe8lZ5vtTGrjWNuZi66VvHUnM23p3AKQa2ubC4k28eswisFnWLyCJQexHbYV6XqCt/RsuLGyaFt3iVrcvJXx5Le/GiIpMx9O2Mv3HxSf0sG2EiSl/lMbW3ugDEyews7KqHvGnyzwfKLZ/Z/novvZqYu5l1Lt7yFL2+ASvHtrbna2BlQYxj649Z1jws/vkXCnlKpT9rI7uz5nIhSxppjSf0W8fTxMK5VZtYI9+85pvI+ue/OJZiTdinM1+rOudyO7RXF8WlhvX6ULST8SWG0qeXvxyTz5JZb813z5MD67FkmD5ba02DkVwzmnVPHeeNZVxFvfMx6a/Sl1wjqvNaWlZ9CpfWuc4Nqz573g41U5qxDar9mFeM2Vvzqpv4RdBCrdGyfdCivp4scVvjrrSseys1Ox8JY6hzyDqNY05Pcf11TeenI4qfyLVvzS2J06pHPL46vjIye+9L4BwDm0SqhLFmHmRR3/NeivNzoUzuLNx1mH2TOfYRDcZW33kSrsSW8eqJId8Vi4RMsHqyp94780pPWIv+Uy9zxcL/PbDOSR/W25LrVls3NxmTY9Z1DLvtxZTvijFJ/zWzoA+lSRsj7ksNZ/PXXiQbJ8vXMTetl7X4ot2tn7mX7l2uElh/hprqHPTRXTWXi7eddzEXzWltnEt8qZvVj3xvYxRJ+/WVmuWxSrv+Gl6/HsSYWo+VDiSvUp91/sWg068/tXE37eI8zhyU6dd5pXqWeYTe4lowr8fFOTbW+n6lg4pFPl/G3zfnhOHKXF6J5ZnbntqH8VhekkuHztZyyiiKLT9m0SSt3UXNbZN5v2fdaLVxcq/qa2PGcyrNxhjl96K57ZrqtcaGlNqWfYtpNjVy89A9xtradUo3YfuuBE4zsPOogsDz3VN7gq0vAl39yGRp3LWJ6PVCqZ9OLdtqsbYxXWPhxVR9SGW9mJKPtFk+vf7sxbxq40/4On8zeZeAsmjkGmkmkmNv/nVMu9jnRVTHydu5fW/MtGAVdXeYCLeuxShzEQZFnXp3JGbKzclL+pLF1NFPPcaVfqS/5TOMo5x3eWyZe65/Gm+V+8o/epDcZZzVGGzMXGedbq2fnFdppPJ6oceQcp87tTlJbstnju/pLPWZxmHzn/Nq1aDOrchrGXDdZo5ZtrMxc86aWb0dzitrrkxswaE1BnnV5ToDO+dma1rlJQNIevNz6uon9aF0k8Zr+FVtbVzLv8GiU2eZhclDxr98dsYszll6Xh4+WLaWWd81zHJQwXYzWxmrxy3NNxVTb8b4R+dJzWPrNcM4T7uuGTpRtt+LwKkG9r0GQRwI3JpAWOxWFuBbB6Q/CDwSATErXLwfqSrk8q4EMLDvivtAMAzsAWic8uQE4tMB+0TjyUfN8CAQCcgT4pWncbCCwNMTwMA+eokxsI9eIfJ7RwL5J7zyZ6p3TIFQELgjgfRKxdbPuXfMkdAQeB8CGNj34Xw8ylUGNr0rVr2/dTwhzoQABCAAAQhAAAL3IFC9K8trNPcoQ1fMgwa2q28aQQACEIAABCAAAQhA4OYEMLA3R0qHEIAABCAAAQhAAAJnEsDAnkmXviEAAQhAAAIQgAAEbk4AA3tzpHQIAQhAAAIQgAAEIHAmAQzsmXTpGwIQgAAEIAABCEDg5gQwsDdHSocQgAAEIAABCEAAAmcSwMCeSZe+IQABCEAAAhCAAARuTgADe3OkdAgBCEAAAhCAAAQgcCYBDOyZdOkbAhCAAAQgAAEIQODmBDCwN0dKhxCAAAQgAAEIQAACZxLAwJ5Jl74hAAEIQAACEIAABG5OAAN7c6R0CAEIQAACEIAABCBwJgEM7Jl06RsCEIAABCAAAQhA4OYEMLA3R0qHEIAABCAAAQhAAAJnEsDAnkmXviEAAQhAAAIQgAAEbk4AA3tzpHQIAQhAAAIQgAAEIHAmAQzsmXTpGwIQgAAEIAABCEDg5gQwsDdHSocQgAAEIAABCEAAAmcSwMCeSZe+IQABCEAAAhCAAARuTgADe3OkdAgBCEAAAhCAAAQgcCYBDOyZdOkbAhCAAAQgAAEIQODmBDCwN0dKhxCAAAQgAAEIQAACZxLAwJ5Jl74hAAEIQAACEIAABG5OAAN7c6R0CAEIQAACEIAABCBwJgEM7Jl06RsCEIAABCAAAQhA4OYEMLA3R0qHEIAABCAAAQhAAAJnEsDAnkmXviEAAQhAAAIQgAAEbk4AA3tzpHQIAQhAAAIQgAAEIHAmAQzsmXTpGwIQgAAEIAABCEDg5gQub29vE//BAA2gATSABtAAGkADaGAUDWBgMfDcwKABNIAG0AAaQANoYCgNYGAR7FCCHeXOkDx5ioEG0AAaQANo4DwNYGAxsBhYNIAG0AAaQANoAA0MpQEMLIIdSrDczZ53Nwtb2KIBNIAG0MAoGsDAYmAxsGgADaABNIAG0AAaGEoDGFgEO5RgR7kzJE+eYqABNIAG0AAaOE8DGFgMLAYWDaABNIAG0AAaQANDaQADi2CHEix3s+fdzcIWtmgADaABNDCKBjCwGFgMLBpAA2gADaABNIAGhtIABhbBDiXYUe4MyZOnGGgADaABNIAGztMABhYDi4FFA2gADaABNIAG0MBQGsDAItihBMvd7Hl3s7CFLRpAA2gADYyiAQwsBhYDiwbQABpAA2gADaCBoTSAgUWwQwl2lDtD8uQpBhpAA2gADaCB8zSAgcXAYmDRABpAA2gADaABNDCUBjCwCHYowXI3e97dLGxhiwbQABpAA6NoAAOLgcXAogE0gAbQABpAA2hgKA1gYBHsUIId5c6QPHmKgQbQABpAA2jgPA1gYDGwGFg0gAbQABpAA2gADQylAQwsgh1KsNzNnnc3C1vYogE0gAbQwCgauMLAfp0+Xi7TJf33Yfr8p1f479Pnn7bbff1Zt7lMH379Xhir779++F+sj9PXN9PfT5+n79aE/v5R5XWZLj9/LfoKxenN3xtT/d1q/n9+nj5c6jHNeYRxBXZLHz9/jd/FvOO5M+ePv9dxRxEaeVI7NIAG0AAaQANo4FYaOGhgo/krjOHX6aM1k2K+iu+/T59/1qYz9qXbyHmq/2D0gsnN5rbOQxvCAKlu8/bW+E7nYE3xyn4wr7O5zsL8+rM29NF0V/3H7+M4l35++jB9mPcXE/5h+vDT3E/Z7lbFp59cL1jAAg2gATSABtDAOBo4ZmCjwdx6IhgMmTarNZj8ZLU8Zo2oGFgbs4wRjGk2uLHPaAbTE+LO/PuE3Gcu7XiWvk0ewQhH4xufIoextAxwyawvX86BExpAA2gADaABNDC2Bo4ZWHmCufqzdsNMqqeUb/I6QPVk8m16M+bONYBFX2/pqWUyqnLc9JWewK7m31/YYDxbrypIPzWPMKb85LYw49HABsOOgWWhER3xiRbQABpAA2gADRw0sDO4aKpa78BWptGDvfL0Mp4vT1N7DGxoU75Lm9/Rte+QbuQv5rfz08aWvPUkKwxq5KfbFccxsM57y56G+E5rjG30gAbQABpAAz+CBq4wsEog0WxeLvq9z/qJYw1028DKKwM9BlbeG62ewG6ZUDd/Nb6t84vj2Rhrc7qMXb/KsMTUvN4mDOxR5pxXzy2YwAQNoAE0gAaeVwO3MbCzgYsmUAxnekLrvR6gDF8wpvlndBGb/b7LwFY57CjcNeeq8YT8W8Y8fD8b22U8hg0Gdke9KuacK3OHT7SABtAAGkADz66BYwb294+NP3NVPlEMT0Ttu6GNv0Kg/uKAmGH9BLPLwL7Fp5jFk2BHxL35d5mk9l9f0PmLkIJx/Th9/N+fFstmP+SIgXVq1VUDzhN98YkW0AAaQANo4EfQwDEDm/5+qX7ftH6KugCMTzbzu6jG5C4GJbxukNvU5q7XwM4xQ1ud22W6mKeddZtG/j0GqhpjnX8SU2pbx8PAsugknfTojja8J40G0AAaQAM/qAYOG1gutJgtNIAG0AAaQANoAA2ggXtoAAP7g9653ENsxGSRQwNoAA2gATSABm6hAQwsBpafX9AAGkADaAANoAE0MJQGMLCeYNN7quY92vQ3b+P3+h+eef3w3VCT4RZ3hPTBkwU0gAbQABpAA+drAAOLycRkogE0gAbQABpAA2hgKA1gYBHsUILlrvb8u1oYwxgNoAE0gAYeXQMYWAwsBhYNoAE0gAbQABpAA0NpAAOLYIcS7KPfEZIfTy3QABpAA2gADZyvAQwsBhYDiwbQABpAA2gADaCBoTSAgUWwQwmWu9rz72phDGM0gAbQABp4dA1gYDGwGFg0gAbQABpAA2gADQylAQwsgh1KsI9+R0h+PLVAA2gADXw0M+0AACAASURBVKABNHC+BjCwGFgMLBpAA2gADaABNIAGhtIABhbBDiVY7mrPv6uFMYzRABpAA2jg0TWAgcXAYmDRABpAA2gADaABNDCUBjCwCHYowT76HSH58dQCDaABNIAG0MD5GsDAYmAxsGgADaABNIAG0AAaGEoDGFgEO5Rguas9/64WxjBGA2gADaCBR9cABhYDi4FFA2gADaABNIAG0MBQGrhM/A8CEIAABCAAAQhAAAIDEcDADlQsUoUABCAAAQhAAAIQmCYMLCqAAAQgAAEIQAACEBiKAAZ2qHKRLAQgAAEIQAACEIAABhYNQAACEIAABCAAAQgMRQADO1S5SBYCEIAABCAAAQhAAAOLBiAAAQhAAAIQgAAEhiKAgR2qXCQLAQhAAAIQgAAEIICBRQMQgAAEIAABCEAAAkMRwMAOVS6ShQAEIAABCEAAAhDAwKIBCEAAAhCAAAQgAIGhCGBghyoXyUIAAhCAAAQgAAEIYGDRAAQgAAEIQAACEIDAUAQOGthv06eXl+lF/ffpj6HGTbIQgAAEIAABCECgIPDtl9LbvPzyrTjOzuMQuMrAvv729+OMhEwgAAEIQAACEIDATQj8PX15fZkwsDeBeUonpxrYv397LZ7SXiWEPz5192Xjto12fpLsttkRc65OunN7/TK51v6vL9Pr8tT6dfryl61nnCzqqbY84XZz0/HiOdVT8K78MwOJV/Uzp5pyz3enXl6JgYyjefeax+v1M9nc5/5aXKdp2q55jhfG6dXA1uTafcv2mphb+dtYuU7LeA07Wye35tNWTMXH6sPEk5bbdZpb2rF8mtxnIEkjjeNL0DwGV2dLGxuvXafErUPXMp+sbi2DpV2zvw1tJwaq3g32KffWeiFFuuFnNdaVcW6GtWNd6at/rLn2nj76+wnZp/aNGuR1zdNs1mrSTqyVl1vXPOlhZufuS0P/VbuXqc4r85Qx+GvLzCuPt+6n1v1V82QOZ/Nv1SgJMea3orPUlI27EDjNwIaJrCaCiOeAGMIiqPoS4VcCjJOn+t5nmxabl3oi9seMfeuFooofJ8Lrl+nbYur1WCS3HZOlg2Vf/oGXXmDkgqO/k0XX+04vPAtPXd9Gnim3P4Kh130IjfqzVdvW97qH2EbnFutVjEmfcu22M/ZqTnTHuCb/cG5mnLWYbrJirrnNnFh/zL5xxf6quVFCcPVXNilyC7E9MyAXwNfpy5rOeuuU9OJwSfl5xzrG7eQQuuw4N8WWDe+c3ppLH7f5rHTRHOd2vLRmpBt/Z0xzNztjhByD+S/17/Qf+y7bqdxXrwFZG23Nxph6nVLd682eedLFbBlTeT2q6jYHTvpXWcTvMo8wRr2mtvJMua3NTRVq2WzW1tO8OdnJv10HObe/HnIGn+9L4BwDG4WmhbwMaxFROVk2h7va18ukYyyC3LhApnip3yD+PAnzIqj7zvmXMUN/WeheDvN30n+auGkhloxyH/KN/9nRLo3N9OBMYtOiMAdyzBtTunveWGyXc1+UwZhzkBrFPIWNxGt9Bnaqrznb+X0l6a9xot8mctw4t9Hl5terMTeY2c5X+9rI3+rNYzjHW2KoOnXH7JzTfn9mpC3dFs1C3WRu2rxT006d+XmZObbkJbrLRiTFko0GixZzOW3+9PLwvtPntLZtPLsv5zXZSYNrPlu1bDBaDbXal16PTd1WO9XrfH0N2M8sx67r1qlZeTCztT60eOjxttos/DUzfVLcjufqdbke09w2j9npJX7lzJfOuen16eXhfVeeW9d3Oe6MszyvZ3zlGey9L4FTDKw/+aMYnKedq0NuLnhGlK0J63auhWn6mdv3xox96/FuTabQ1jPxOic36fBlMzd1TrONM1Z1WtgMbfTrHsuYlLnR7fQiV3UlF+bq3NhycwEpe9SclyNdNW9zrforw12x1+C81GV+2iNmqCfENfk3aumZ3kIzvTHb7YqRddXJN3FFP86Or03TsKmzI3WqmaZosb5iruX7rTVhble16WQmMfSn1XXVtzQuai5f3ubT5hB6jXo56xqwazxau7UO9jLT422eG9Eux901QOfUrsNW/8uZTRb1WKtIznzxc+7oy/slRwd0YunDdrsae888abbZ4r113GbH/nsTOMXAViKLIn797dv+l6Kb4jMXEpmw8ScJef/GMwt6sZGfSgsj1htzrpZpW4+9LGmIvWJg5d3RxrtPKfdlvI333kxOOQPDLB/IW/HcgocsQundqNiPZ4RyT/kOvdXOjVV0kHe8tp01b9WkXYsc9tCWw7+sm1f/dqSj+XvjS3nYcFFPYr76YsoFLM5rpV3pZwnTVad8sVhiq75KLZaJh7YbNwSeduZuDtVpfQ5J7pJz2N+ot2Hfz6xksew5Y+2tudPb4a+WcRfz3mhl6ymjjuzUKRwua5HGGXmma0CRRzgztV12Jbf0Uk18p97RlVcrk189dj2Y+teOfDTOAaX9eQyipZh5uoaK1mScRTuTU45RMsvfqy1vjEevAY4eVaQ0B4vciwZqx8tr+S6/JiQsyut+Xd/Qa+Tt6KM4vkerKl02zydwvoEVgS0/meeLVP/QZFKXi0mavFFcYUGyPyd751ox2/05M+88WXjKf5VoFyu7b8cZ8ty4oMlJccLWT0PLHMSE55/S+/OXUOFTzvPzS8znBbZjUktNmotT5+KWFiUTU/rP455HIWNQeokcizxi7JdkyksSV+0VF4+Yj+RezIfOKIfyb1yoZNySz5JCbPuiflrsiSl9GYZSFzGxsr9eJyeHOTcvD4UtaFLVWh1LmzHPov7zwUN1anBNwXLOQbeN3OK4RNs2tz5mMWiqQ7yhLWqbx1nO2QZvPY4rtot1cBmrrClmPnTFcOa0PLVWa1Fan4rxx3EWJiV8l5nb/X3MirFKXkW8cpBdmpVTRCdpTI26VfOkj5mEyZ/Sv6/bxFhxz+faLclBam+PZ865FqaNjD+aetuud56EvMs8/HN1/CNa1eezfTaBUw1s+AdLeiIcFYRMhPzE8dMf5aITxFgKdIFXXKScn+rS0+F89x2gb8f0XjWwi5ktYDNP2zDu28XO7qfTiovE/G1H/unksr0Yj3zYLGrpgunwjielxSEtvLm3tBX7sYtSOm427CLUZGlqvnRjFsLZTNX6NAGP7qb4pUZzHm1uzZA782+ymQOk+sl8+jR9q/RjjVi4OSyYNetXzvNmLonTnFTUmKOXtTnVnA8aZCvPFH9Pndp5LqOIf0MyzKE8B9c1Lu3yWtnHTA8yb9t5shyJYxXDvDyh8mqeu7lqS2pW6GXpsdRGfxBhJJqdb7bKujW1YMYpueUVv+wn5dTDzPQ9n1v3n3pcNpp5ls3SXtm+rb867jazFCRkFv++u7c+xbjy6kNi47WdO8ux6+uJihr7WZ8f0l76PDZPAsesn+1fhGM8Z02SjPi8L4FTDGxYfO3T0HmgjYXiCIMo/DQ5nIVk6Va3c9vsyEn31RhLvYiUg2temMpmac+2D/t5AqeG7tjS0bBR5F8ek8ldLyT1ohHOjAua96RhycWrfxlTjFQd07RLu6ZWrTGvjDN11XGh0W33bUc2+olm7KBZv30BltZtrcX4Oxbe3rzKmKYeaQxm4e+qkzkn9bVuCIJunfmgzm/r7Eid2mwDQ/UUO+YQcmxd6GMjq9kuZnqQertVF91G/krDBrvylO49YVE+dZ9P78utK5Bh1tSwZqm3U5D+nMoY/nnlHElB0kaXZlNrqZPo59g8Sd0ZZun7VcO5/xoQxmhff8jR0lbMp/saYPN365lv0pM/SAH1hl+/3KLNOrdh654ETjGwcsGoxNMS2+rk8fEsC4k2T1bYcpqKKZMqP4XId2Py3dpEKmIu/dbnSz/Lp84v5hMWQFmMJMnWZ5xAuh81Hn1WubDqI3m7yD9/Hf8FemuxCZO8vhA1FjXhonNWsYrNvYuXvfh11LyIV+yEcVUandvsGUPRZ97xL2IrC+LumO3892lszjnktab9MDIbszWe0C7111mn3czkJkSeCmX85daKzvbHDGMrf46PdJanr/XcDvWojW2RpGVk96VxY/7L4ZjJ8iQt8S8Pxr21mse6Ojdgblfel3vzj+3Ldxe9jvN31XrWYBP4B6N+3TXAMJM5G3/eLtZ++c5ZB0MOvTcOsRaqn/2aXWG2HNqqd9S8yiH0KOeVYxHG6/qLOcW6d7WdT7G6svuxW+/XUTmUPpf6lbmnY8tGHN+OBwHl+eydTeAcA+tdWNaEGo8tC8CmWPxJM4OqF4b2xSaDNRfbfEBttWOqRsumv7jkVnvMRRiPvSDGXPRissZ2Cd3Ov2exkTaF2ZPFW9dLvtO55aHXW5t561P8MYTc9CLUUfOYZ2vRFMMx67EYs05na9sZW51r7kQYd72Tu5p/x/hz2HRB8AyZbiamvmIWc9GcvHHW3zl5Osy25kvdb5F12HH6Ta2cY+t9OnlLZ6J/PSfiTde6MYt9mnlT57ESW3JIDwP0nEgHw0Ycc7vmMc5swkxOpqfV3Sp/h7V0sG/O+WuB3IgVOa/ElNhdT4U3maneNv60X8Uln1pthbbmGuCMaWueJDbVzZ6wXF/rQh6mjaN3aVetE9XI4hfOWFpNpU5FfQ9e912uVeDIppjPVSO+uCOB0wzsPCYRs9yZtkW9Pon6+9kTU6iHxdrmtiem9JTGbBZ9vTgLi/SZ2qqLxsrde4iVeUk/2kCkPKSf6l+yxoxlUVbtpL/5U/dpeczHS2Z1TrqvdLFcjZkXao9ZGS+OoUdnVcyVi/vSba6FZpAjdm7tiSsXg6QHFWNHP8KtnXceW6hPZq4iZmObtLHCTHKXtt4Yeuo0J9AxVk+LSWtysan60b+WmDFXbe1YLTPdVzlPxOinfGYmhoeXf6tetq2dA1JvHc+2SRd+qY/5R3dF3eNO6tfk7rVd+24r/3RuqoFlH1p095MMfK5Ri22KbX/ZWQ7YmhvN5JOrrSVXw83mr+uV1sZ0s5Nzt9pJwRIvaVtzszFrXahfm5I2pL/5sxyz7W8eQ9FnlZPuS82T1XY5phevVUvbtshr/o3p0P8rKAY26e1BN041sA86ZtKCwCaBsCDmxXTzBBpA4JkIiMmQG4JnGhtjgUAXAQxsF6Y7NsLA3hE+oR+UQHyiaO/iHzRb0oLAjQnIryn1U70bB6I7CDwwAQzsAxdnSQ0D++gVIr93JJB/Nmz9VPWOyRAKAu9OIP3Uan4Cf/dECAiBuxPAwN69BBsJXGVg9Xs8XPA3SHMYAhCAAAQgAIGHJmDfp83vKD902j9kcgcN7A/JikFDAAIQgAAEIAABCDwAAQzsAxSBFCAAAQhAAAIQgAAE+glgYPtZ0RICEIAABCAAAQhA4AEIYGAfoAikAAEIQAACEIAABCDQTwAD28+KlhCAAAQgAAEIQAACD0AAA/sARSAFCEAAAhCAAAQgAIF+AhjYfla0hAAEIAABCEAAAhB4AAIY2AcoAilAAAIQgAAEIAABCPQTwMD2s6IlBCAAAQhAAAIQgMADEMDAPkARSAECEIAABCAAAQhAoJ8ABrafFS0hAAEIQAACEIAABB6AAAb2AYpAChCAAAQgAAEIQAAC/QQwsP2saAkBCEAAAhCAAAQg8AAEMLAPUARSgAAEIAABCEAAAhDoJ4CB7WdFSwhAAAIQgAAEIACBByCAgX2AIpACBCAAAQhAAAIQgEA/AQxsPytaQgACEIAABCAAAQg8AAEM7AMUgRQgAAEIQAACEIAABPoJYGD7WdESAhCAAAQgAAEIQOABCGBgH6AIpAABCEAAAhCAAAQg0E8AA9vPipYQgAAEIAABCEAAAg9AAAP7AEUgBQhAAAIQgAAEIACBfgIY2H5WtIQABCAAAQhAAAIQeAACGNgHKAIpQAACEIAABCAAAQj0E8DA9rOiJQQgAAEIQAACEIDAAxDAwD5AEUgBAhCAAAQgAAEIQKCfAAa2nxUtIQABCEAAAhCAAAQegAAG9gGKQAoQgAAEIAABCEAAAv0EMLD9rGgJAQhAAAIQgAAEIPAABC5vb28T/8EADaABNIAG0AAaQANoYBQNYGAx8NzAoAE0gAbQABpAA2hgKA1gYBHsUIId5c6QPHmKgQbQABpAA2jgPA1gYDGwGFg0gAbQABpAA2gADQylAQwsgh1KsNzNnnc3C1vYogE0gAbQwCgawMBiYDGwaAANoAE0gAbQABoYSgMYWAQ7lGBHuTMkT55ioAE0gAbQABo4TwMYWAwsBhYNoAE0gAbQABpAA0NpAAOLYIcSLHez593Nwha2aAANoAE0MIoGMLAYWAwsGkADaAANoAE0gAaG0gAGFsEOJdhR7gzJk6cYaAANoAE0gAbO0wAGFgOLgUUDaAANoAE0gAbQwFAawMAi2KEEy93seXezsIUtGkADaAANjKIBDCwGFgOLBtAAGkADaAANoIGhNICBRbBDCXaUO0Py5CkGGkADaAANoIHzNICBxcBiYNEAGkADaAANoAE0MJQGMLAIdijBcjd73t0sbGGLBtAAGkADo2gAA3sPA/vn5+nD5TJd0n8fps9/MmlGmTTkiVbRABpAA2gADdxXAxjY9zawYl5//sqTz/dmTzw0hwbQABpAA2jgKTSAgX1nIX//9cN0ufDElTvX+965wh/+aAANoAE0MLIGMLB3MbAfp6/vHHdkkZI7iywaQANoAA2gATSgNXCFgf06fUzvcM7vc7aeKn6fPv+0/b7n1591m8v04dfvxSPu8ORyNn6mv58+T9+tGfz9o3q/9DJd3J/re/PfEkzoZ8nXxP34e31uHkd9TBeGbfigATSABtAAGkADaMDXwEEDG81fYQy/Th+tmZT3PYvvv0+ff9amM/al28h5qv9g/ILJzea2zqP+ib5u8/bW+E7nYE1xcz/2tZj5/GS1yMMY2/yPt6JpV+NEqL5Q4QIXNIAG0AAaQANoQDRwzMBGg+k9YZSO58/lqeqGKWw9kSwM4NvbFPYvk41ZxghmMhvcWOjFQKonxJ3567G0t6OBteNsxGiNt90/YoUNGkADaAANoAE0gAa0Bo4ZWHmC+b+njtZQ5s4bZrJ4khlfB7Dmb25jDKA1tDmOKqg1qhLL9JWewK7mr/qVftzPaGA7n6JiYHu50s7VuKtBWMEKDaABNIAGfiwNHDSwMyTzLqp9B7YyjR7Y2Idn/uL58jS1x8CGNuW7tPrn+tJsb+TfbRQwsCwanrb5Dl2gATSABtAAGjhLA1cYWFWUaDbLf8i14wnsioEV09ljYN9aT2C3zKibvxrf6vkY2LPESb+9GqQdWkEDaAANoIEfSwO3MbCzwaueuK68HqAMYesndft9l4GtcthRzMPnYmBZNHboTGkfbnBDA2gADaABNHBMA8cM7O8fG3/mSv1DqflCLf/6vnjC2vgrBLpNNJPy+sBc3C4DK/9wzL7OYE1Db/72PHcfA8vkOzb54AY3NIAG0AAaQAPHNHDMwCZDqd83zX9CqihGNKP5XVRjchdTGE2g+ruy8uqA9NVrYOf2oa3O7TJdzD8Uq9s08ndNq4aNgZUa8al1wTZ6QANoAA2gATRwlgYOG9izEqJfxI4G0AAaQANoAA2gATSwpgEM7OYTVgS0JiCOoQ80gAbQABpAA2jgvTWAgcXAFv+Xve8tQOKx6KEBNIAG0AAaQAN7NYCB9Qxs9d6ueZ9W3tXV//DM64fvMMdoAA2gATSABtAAGri5BjCwiOrmotp7F0V77rzRABpAA2gADaCBPRrAwGJgMbBoAA2gATSABtAAGhhKAxhYBDuUYPfcndGWu3k0gAbQABpAA8+pAQwsBhYDiwbQABpAA2gADaCBoTSAgUWwQwmWO+nnvJOmrtQVDaABNIAG9mgAA4uBxcCiATSABtAAGkADaGAoDWBgEexQgt1zd0Zb7ubRABpAA2gADTynBjCwGFgMLBpAA2gADaABNIAGhtIABhbBDiVY7qSf806aulJXNIAG0AAa2KMBDCwGFgOLBtAAGkADaAANoIGhNICBRbBDCXbP3RltuZtHA2gADaABNPCcGsDAYmAxsGgADaABNIAG0AAaGEoDGFgEO5RguZN+zjtp6kpd0QAaQANoYI8GMLAYWAwsGkADaAANoAE0gAaG0gAGFsEOJdg9d2e05W4eDaABNIAG0MBzauAy8T8IQAACEIAABCAAAQgMRAADO1CxSBUCEIAABCAAAQhAYJowsKgAAhCAAAQgAAEIQGAoAhjYocpFshCAAAQgAAEIQAACGFg0AAEIQAACEIAABCAwFAEM7FDlIlkIQAACEIAABCAAAQwsGoAABCAAAQhAAAIQGIoABnaocpEsBCAAAQhAAAIQgAAGFg1AAAIQgAAEIAABCAxFAAM7VLlIFgIQgAAEIAABCEAAA4sGIAABCEAAAhCAAASGIoCBHapcJAsBCEAAAhCAAAQggIFFAxCAAAQgAAEIQAACQxE4aGC/TZ9eXqYX9d+nP4YaN8lCAAIQgAAEIACBgsC3X0pv8/LLt+I4O49D4CoD+/rb348zEjKBAAQgAAEIQAACNyHw9/Tl9WXCwN4E5imdnGpg//7ttXhKe5UQ/vi00VcUm3oqPD8hbj8Ztk+RP036PqvKXfp9/TJ5tt3etdVxbbzX6ctfdU339zPfLfp9pd7/+jK9xvzrvKbJxnx5KVks/ag+lifvDQ5L21Qrp5+UVNhIsb3+bMyXl6m8afJrPudXtptjOW29mCa/63b7at4Xw+a/VnMb169DYr/xhCG1a2moqpMXz+Z0cG5WsbaelmRutSYU+dTvGlc1V5rMcrz0C5XRWd/a4vTTXM8sW38Mm3VUOG61WY21ya0jYlpXYs2rviyHjbVxteY+/3pt8WKG/Oxaa/nX18PemNM0pdyz/gt9O8eTHud5XLFT2m7N81SiPOYiZjo+TbbuXjvLo2hzIP/NmE6fRUyVf9iM9XBYVU354i4ETjOwQZxqIRXxHBBDEKbqS8yIuTBYgiJou5C0vtfnhzbehVi3UgvJ2ricsVd8vDHF89YnmSw8mo/OsVwUSxbxWMFR2quxxwuHPjfkr9osIePC9su3aIrtcZ3XNE36glTkkI/pmNI+8+hdYHJeOYP4nY2bG1y31VXz3hBO/k5N5t56tC0cP/3h9KtTcsagDy/bMY+qJsVNUIija9nKs/V9Fdd+EXOtY7xOX/4IN3A5R31yngPflhvuxjxKvNeYecfid0pn3WuLTrNVW6dGt1xbTAq7dqs8nFx7OwzMdG1y3bwHCtJvlcNyIJ/brvm+tcXXlmQR12h9jXBZdMZMWsz9y5zeykOMr54n8p1nalWEtBmYBuNcx6v1nk5MG3Gceo2o1pHUuNxw5vk0dcQ8xKyzHmWG7L0jgXMMrCsyMSV6EeoY6Wpfa09x5r6DsItJ1urPpNJ3kekT+DLh1QUshCrPbcULi8WGEVwb0zJx80XcW7iK7+bk5JzlCbHDcG4TY2a2YTzS13beefweH++79BQ1XQhyH6Z85W4xnnyoxTy3OL7Vl39f/6t9aV2t6UBCLW1ET3HhTzyl0fzZw7bVpqEZ3b1cdHTsnvyLPvLOwsheEIVNpdXyPNFwbZJiu15mnTo7rrua66o2IttWvIpZxnL9VquWDUarAVf72rgGOOfO496seZf+56zrmqyORR2s+bfmkzppjji/oynaTod2nKvnSfc4Y6DE0x+3n1tKMmw0NNDSqT67Ztbioc9qtdlitnW8jMHe+xM4xcD6QoxicH/eXRl4Q+x9C0c9ybomWHraIRf6Rn7N3HT7Oofl6HLufBcbYjTz6omRFhUdd95Wsb028TtZzOXson7eeUvD9cntLTTS//ypY3hj989X4+nIIcWLrMVcy/deXDl23afNM/Zmat4Xo81ZM5z72j+ekKf75OUK3YW8vIusHnEde3/+sb+GjlO0reOxYch76wa7zjvF6dSZrVs6f3PD6sruxw6Mzppce2q8mZPfwB/jHa4BzfUr5N2ueXvelSNu1KBs5O4tdTlgJuvz5u478vDmwS4NaCZOvA3WAsHXY+hvfs3BrtNyXv3QJD9IaZ4TTz7GTI83ZcHGAxE4xcDWAhWxf9v/UnRzUkTB6yc4Bmwt2izIcKzx/lAyWPn48v6QuetNi3S6YMT2up2Tf3leuGCm78wY5Keh9gSNY9IxYx9FHZw85mYhbn4nSvZzPKmd/aGuHXfut2avBmZyKfJMzWRBE0MR94txxhziO1vyjpc15Dmf/OQl5Cd9p6C32TDjmztN9d11wQjp+HykTxlDv7bzINtzqMxXzQPN3xmL5Bp+ml25AYyMcq2O5K/4FEYgj3DZqmKZ43E3jFl4+m3EKLimP+l+XWcyx0Sv3triRQ+aVUw7dZZqaTuN61ae67bB8X3RQV41ZB15z2vA+ho1j65d8961RdYpNUfWTFhC6uW2N6Zo1VsbU6C0Ueknjf/T9G3tGhZ7KHUk9cwVTr/cxVd2sr6VZr0nvknHTp8p+8Y1Rdag1ZhzJ1KnPcxiPVY8hkqPzTsQON/AisCWn6OPCEImtZ4EIuZsvIRdmKSymIhY09H057+KRTtO3nwxlfb6UyZAziPFKgQe28mFPk3OuS8zfs0mtisvjBLT3pUKExlnzillXMTduFOV2IsRtMyEdfl9ugjLOFPgsOEtltJkOabOs/vSbv5MjBv/8EC3XbZjLUuOsZUcW8bpMKs6O/hFwX6l5r3de/pMNZO6NLTinZvixnMK/YaDiXtxzGh76buML3OovNilgHFD9Cvnzl8fyT/rWuLaSMt+ZLXaJl3MdU5eb21mqfVuncnYa02mOnhzs1dnohWvll1mK42se6OY04VOzHzo6lH0UvJJbIpxSduVtVHFbBtY1Ug2pa5FPDmYP2VtXNNbT5ulx5WYafw9a2NjDqQ+ijGZeb4kEr7LY7L7cjNgf3mRekjtyvqX60TdZ6LayF84lq9U2Jipl53XkzLX3Atbj0LgY/1OnAAACUVJREFUVANbP4U5KggRpCxKs6FbEbvQrRbucI5nbooFV863n3ExEfMbJr9MTNVYL9gxBzdf3W4+XfJdLlbzWOXOeOOiGvPKi4vDOeWh8kwXbfvEaOvGYG6//iSli01MxWcfayVP1hKbDRbJ9JZ1CfnIjUDWU2ZWcrlqL7F2NGpr3hso1jg91Xj9MpXz64i2N84R9jpHnb9sx6cfMi/m5uWFSXeQ2ev2ycAWF9Jwnq8PdczLU4eM9diqdch5S19tZnPIwzqL9S2Z6EGo9UEY7dFZmj+yhnauLSaF3l2pWanR+WxnberqNOtG5oC7ptq+ItdW7ftqnjsN9S3XlnxUtmKu6iZdjsyfyXRJHfVBZ7uOGTUouk+1bWu37iMEan2fnqbGv5SztCvGE3LQXJssk06X0adfYXv6FBytPPtizr3sZ3Zcq5I1n2cTOMXApglaCD6LSIv+8ACLSdHuJeQiC0578awnk9NnjCn5l32r9nJhV/8Ial507cWpeb7qqqfN3Fzn757j8Wos7uH8Ol+VVloQhEV5TC7kwl2O1ouezT20lIuVf355ty1958+Qf17MW+MJi2Jul3u4dksWy5qhW5uD4XTN1xbbsp0OFvN0LqTNPLW2o6a8P+PWihmY5xumnM2BuWnmY+7LbHW2s7oxvcTdLWZ1zcOYN3S2K0eZF9fprFljf+C7vg1926dxcxch59a6sStIZGbXVdtHS4tzu76a5x5724eaS53y+fJK2NYaps4wOR5YG1e01dSAnud6OyXm1NFtl2+8pE6yBlQPklr1XMnfGu2UXtHXAWZLR+01KcVh464ETjGw8iRRBJtG2BK43JU7Ji+dazaWiVcZZNMoLVB5IfEXsz6hVotXYzx2UTgeM+TVs9jnGDJZ5UmL/znXJuRZX3BlkV2Nu4w9c7XkwyJlji/n+PnIU5WwsMcLc1VfGZvptwge26hzQy61gdga/56LTJGCuaHIx2JujmEU5v0xAyM9x7IGcsQ1YytmorqQzKd3abs1HufiJkxW/hHn3vxdjemhy/baBVDapLWi1olqkgyYx2y3zlTH1dqijunN91lbZJ45a4NOZm27MBCqYUNXcs2Qf9SqzmhuLizUPG819HUVWvdyj63D08PNmHH9svNc1r/N8/VI7Hq2f21cnSeNemidhfPX1+3lWtFb846YmsBq/l0x9zMr6m3rqJNj+64EzjGw6WKljMbaRSQeW0zMplhkcVV9txDGBaMwYk4eXYuY15cYb70gOf3L4qzzWJ2U83iEySaPFSOqucT+tOFJMXT+MqaV/3OEkPv6hX5zfCq3pW2RgzzBNRfQWAPPPEh3bm7ueXFRk5/hpINkZMKCXfBSbTY3HR2sMQnH5pjrXJe4rhazZrTO1rXduNAuQeyF0+9fjHfm5JyX1gPvyasi6TBr5u+0VT2Vm51tm7GK3laY7dRZ6rZVz9QgbnjtnLGt6WzpKZ7TnkcyN7wnqDap9n6Vh5OrnB3Y9865/muA9Jv1KRHDZ1/NQ9swnq352chNtGHWuTKbes+LGb7rXBtXmEcCtSnfPGc+M2hErzXLt8v/Dau+NnvzxVkjIp+qTh25VDqT1wXUtXMXs1SGmKfqJx1i4yEInGZg59GJaOTpmhV7JiCT3kzK2KCvH7Xo6ndIc5C8FSeF5OXd9duYbWORc5f+qkk4R96MafNvLJRVP50XmXhelZvXnzF1chGQ8bUufDUzdde+sggs5zkLu9dfqSHLbIWFXECSNlbaygK44xeBLC61VbHVC7tqN29Kfg6Hbe2ovjZjOswUk1IfndqW3KUfO4YqJ6ULy7hq6zML2mjMkRlH1Y+Omc+rtC1jmD/TOHYwsyyKfkKdal3nfHIlvZg+i3qstp3ty4uXI89biUtiUB7v3bNjLeev6iXVy+Ye2nT1k/pQtXbyT2PTtZbt1N4y03rw8lYxq7WunkdpLZ3jpvadMZ1r69yfx3ZznixDqfMr1wE13rQZcm3HzDy8NumXIeFu14EYpy//Pq9hNdRiloYoD3NSffIRth6DwKkG9jGGSBYQ2E+gd+Hc3zNnQGAAAmIGuXgPUCxSPIdANPbMgXPw3qBXDOwNINLFkxGIT9H8JwdPNlaGA4GKgDyR85+GVs35AgJPSQAD++hlxcA+eoXI7x0J5J/wtn9Ce8e0CAWBdyKQfl5PP6W/U2DCQODhCGBgH64kJqGrDKx+j4cLviHLLgQgAAEIQAACQxGo3pXlFYKHrd9BA/uw4yExCEAAAhCAAAQgAIEnJ4CBffICMzwIQAACEIAABCDwbAQwsM9WUcYDAQhAAAIQgAAEnpwABvbJC8zwIAABCEAAAhCAwLMRwMA+W0UZDwQgAAEIQAACEHhyAhjYJy8ww4MABCAAAQhAAALPRgAD+2wVZTwQgAAEIAABCEDgyQlgYJ+8wAwPAhCAAAQgAAEIPBsBDOyzVZTxQAACEIAABCAAgScngIF98gIzPAhAAAIQgAAEIPBsBDCwz1ZRxgMBCEAAAhCAAASenAAG9skLzPAgAAEIQAACEIDAsxHAwD5bRRkPBCAAAQhAAAIQeHICGNgnLzDDgwAEIAABCEAAAs9GAAP7bBVlPBCAAAQgAAEIQODJCWBgn7zADA8CEIAABCAAAQg8GwEM7LNVlPFAAAIQgAAEIACBJyeAgX3yAjM8CEAAAhCAAAQg8GwEMLDPVlHGAwEIQAACEIAABJ6cAAb2yQvM8CAAAQhAAAIQgMCzEcDAPltFGQ8EIAABCEAAAhB4cgIY2CcvMMODAAQgAAEIQAACz0YAA/tsFWU8EIAABCAAAQhA4MkJXP7v//5v4j8YoAE0gAbQABpAA2gADYyigct///vfif9ggAbQABpAA2gADaABNDCKBi7/+c9/Jv6DARpAA2gADaABNIAG0MAoGrj8+9//nvgPBmgADaABNIAG0AAaQAOjaODyz3/+c+I/GKABNIAG0AAaQANoAA2MooHLP/7xj4n/YIAG0AAaQANoAA2gATQwigYu//rXvyb739vb28R/MEADaAANoAE0gAbQABp4RA1gYDHr3KygATSABtAAGkADaGAoDWBgEexQgn3Eu0By4ukEGkADaAANoIH31QAGFgOLgUUDaAANoAE0gAbQwFAawMAi2KEEyx3u+97hwhveaAANoAE08Iga+H8a6YtPfN8E+gAAAABJRU5ErkJggg==)"
      ],
      "metadata": {
        "id": "ES6gjtU4zqHe"
      }
    },
    {
      "cell_type": "code",
      "source": [
        "from sklearn.model_selection import cross_val_score"
      ],
      "metadata": {
        "id": "sZ1Ay48Wzcre"
      },
      "execution_count": 47,
      "outputs": []
    },
    {
      "cell_type": "code",
      "source": [
        "cross_val_score(LogisticRegression(), digits.data, digits.target)"
      ],
      "metadata": {
        "colab": {
          "base_uri": "https://localhost:8080/"
        },
        "id": "0ivNTzGc0uH-",
        "outputId": "9cb39e6e-4aae-4af2-c791-38e4d759072a"
      },
      "execution_count": 48,
      "outputs": [
        {
          "output_type": "stream",
          "name": "stderr",
          "text": [
            "/usr/local/lib/python3.10/dist-packages/sklearn/linear_model/_logistic.py:458: ConvergenceWarning: lbfgs failed to converge (status=1):\n",
            "STOP: TOTAL NO. of ITERATIONS REACHED LIMIT.\n",
            "\n",
            "Increase the number of iterations (max_iter) or scale the data as shown in:\n",
            "    https://scikit-learn.org/stable/modules/preprocessing.html\n",
            "Please also refer to the documentation for alternative solver options:\n",
            "    https://scikit-learn.org/stable/modules/linear_model.html#logistic-regression\n",
            "  n_iter_i = _check_optimize_result(\n",
            "/usr/local/lib/python3.10/dist-packages/sklearn/linear_model/_logistic.py:458: ConvergenceWarning: lbfgs failed to converge (status=1):\n",
            "STOP: TOTAL NO. of ITERATIONS REACHED LIMIT.\n",
            "\n",
            "Increase the number of iterations (max_iter) or scale the data as shown in:\n",
            "    https://scikit-learn.org/stable/modules/preprocessing.html\n",
            "Please also refer to the documentation for alternative solver options:\n",
            "    https://scikit-learn.org/stable/modules/linear_model.html#logistic-regression\n",
            "  n_iter_i = _check_optimize_result(\n",
            "/usr/local/lib/python3.10/dist-packages/sklearn/linear_model/_logistic.py:458: ConvergenceWarning: lbfgs failed to converge (status=1):\n",
            "STOP: TOTAL NO. of ITERATIONS REACHED LIMIT.\n",
            "\n",
            "Increase the number of iterations (max_iter) or scale the data as shown in:\n",
            "    https://scikit-learn.org/stable/modules/preprocessing.html\n",
            "Please also refer to the documentation for alternative solver options:\n",
            "    https://scikit-learn.org/stable/modules/linear_model.html#logistic-regression\n",
            "  n_iter_i = _check_optimize_result(\n",
            "/usr/local/lib/python3.10/dist-packages/sklearn/linear_model/_logistic.py:458: ConvergenceWarning: lbfgs failed to converge (status=1):\n",
            "STOP: TOTAL NO. of ITERATIONS REACHED LIMIT.\n",
            "\n",
            "Increase the number of iterations (max_iter) or scale the data as shown in:\n",
            "    https://scikit-learn.org/stable/modules/preprocessing.html\n",
            "Please also refer to the documentation for alternative solver options:\n",
            "    https://scikit-learn.org/stable/modules/linear_model.html#logistic-regression\n",
            "  n_iter_i = _check_optimize_result(\n",
            "/usr/local/lib/python3.10/dist-packages/sklearn/linear_model/_logistic.py:458: ConvergenceWarning: lbfgs failed to converge (status=1):\n",
            "STOP: TOTAL NO. of ITERATIONS REACHED LIMIT.\n",
            "\n",
            "Increase the number of iterations (max_iter) or scale the data as shown in:\n",
            "    https://scikit-learn.org/stable/modules/preprocessing.html\n",
            "Please also refer to the documentation for alternative solver options:\n",
            "    https://scikit-learn.org/stable/modules/linear_model.html#logistic-regression\n",
            "  n_iter_i = _check_optimize_result(\n"
          ]
        },
        {
          "output_type": "execute_result",
          "data": {
            "text/plain": [
              "array([0.92222222, 0.86944444, 0.94150418, 0.93871866, 0.89693593])"
            ]
          },
          "metadata": {},
          "execution_count": 48
        }
      ]
    },
    {
      "cell_type": "code",
      "source": [
        "cross_val_score(SVC(), digits.data, digits.target)"
      ],
      "metadata": {
        "colab": {
          "base_uri": "https://localhost:8080/"
        },
        "id": "0yWJ2TNc00Aa",
        "outputId": "9197c19b-758b-4a6b-a333-fbf581d9bbe7"
      },
      "execution_count": 49,
      "outputs": [
        {
          "output_type": "execute_result",
          "data": {
            "text/plain": [
              "array([0.96111111, 0.94444444, 0.98328691, 0.98885794, 0.93871866])"
            ]
          },
          "metadata": {},
          "execution_count": 49
        }
      ]
    },
    {
      "cell_type": "code",
      "source": [
        "cross_val_score(RandomForestClassifier(), digits.data, digits.target, cv= 3) #cv parameter means no.of folds"
      ],
      "metadata": {
        "colab": {
          "base_uri": "https://localhost:8080/"
        },
        "id": "TdrK6enM04-G",
        "outputId": "d452cace-c6f0-4228-a605-33fa5b0566d9"
      },
      "execution_count": 51,
      "outputs": [
        {
          "output_type": "execute_result",
          "data": {
            "text/plain": [
              "array([0.93823038, 0.95492487, 0.92153589])"
            ]
          },
          "metadata": {},
          "execution_count": 51
        }
      ]
    },
    {
      "cell_type": "markdown",
      "source": [
        "![image.png](data:image/png;base64,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)"
      ],
      "metadata": {
        "id": "5PFuDsH31fSv"
      }
    },
    {
      "cell_type": "code",
      "source": [],
      "metadata": {
        "id": "gMttVUFN09Of"
      },
      "execution_count": null,
      "outputs": []
    },
    {
      "cell_type": "markdown",
      "source": [
        "So we can use KFoldValidation to decide which model to choose like SVM or DecisionTree and also for parameter tuning."
      ],
      "metadata": {
        "id": "Iwa-z6d91nQW"
      }
    },
    {
      "cell_type": "code",
      "source": [
        "import numpy as np\n",
        "scores1 = cross_val_score(RandomForestClassifier(n_estimators = 5), digits.data, digits.target, cv = 10)\n",
        "np.average(scores1)"
      ],
      "metadata": {
        "colab": {
          "base_uri": "https://localhost:8080/"
        },
        "id": "a5CM3m-310GD",
        "outputId": "5221178f-6c2a-48e6-cef4-cbe44c826ced"
      },
      "execution_count": 53,
      "outputs": [
        {
          "output_type": "execute_result",
          "data": {
            "text/plain": [
              "0.8881502172563627"
            ]
          },
          "metadata": {},
          "execution_count": 53
        }
      ]
    },
    {
      "cell_type": "code",
      "source": [
        "scores2 = cross_val_score(RandomForestClassifier(n_estimators = 25), digits.data, digits.target, cv = 10)\n",
        "np.average(scores2)"
      ],
      "metadata": {
        "colab": {
          "base_uri": "https://localhost:8080/"
        },
        "id": "nRbli1Z82HMo",
        "outputId": "68d113d3-d0c5-46d1-82b4-25d85d711763"
      },
      "execution_count": 54,
      "outputs": [
        {
          "output_type": "execute_result",
          "data": {
            "text/plain": [
              "0.935431409062694"
            ]
          },
          "metadata": {},
          "execution_count": 54
        }
      ]
    },
    {
      "cell_type": "code",
      "source": [
        "scores3 = cross_val_score(RandomForestClassifier(n_estimators = 35), digits.data, digits.target, cv = 10)\n",
        "np.average(scores3)"
      ],
      "metadata": {
        "colab": {
          "base_uri": "https://localhost:8080/"
        },
        "id": "2sVnjG1c2ZK4",
        "outputId": "87d3e482-e5d3-4f46-e502-7f2a0ced2ed7"
      },
      "execution_count": 55,
      "outputs": [
        {
          "output_type": "execute_result",
          "data": {
            "text/plain": [
              "0.943234016139044"
            ]
          },
          "metadata": {},
          "execution_count": 55
        }
      ]
    },
    {
      "cell_type": "code",
      "source": [
        "scores4 = cross_val_score(RandomForestClassifier(n_estimators = 40), digits.data, digits.target, cv = 10) #as n_estimators increase it takes more computation time\n",
        "np.average(scores4)"
      ],
      "metadata": {
        "colab": {
          "base_uri": "https://localhost:8080/"
        },
        "id": "u1Ux3Czv2iJ4",
        "outputId": "a00825f7-f26a-4c6f-fcff-b32efd224505"
      },
      "execution_count": 58,
      "outputs": [
        {
          "output_type": "execute_result",
          "data": {
            "text/plain": [
              "0.9538019863438857"
            ]
          },
          "metadata": {},
          "execution_count": 58
        }
      ]
    },
    {
      "cell_type": "markdown",
      "source": [
        "#Hence 40 trees fits our model best."
      ],
      "metadata": {
        "id": "XnHvO8ps28ka"
      }
    }
  ]
}