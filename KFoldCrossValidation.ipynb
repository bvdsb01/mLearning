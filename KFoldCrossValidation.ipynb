{
  "nbformat": 4,
  "nbformat_minor": 0,
  "metadata": {
    "colab": {
      "provenance": [],
      "authorship_tag": "ABX9TyONhW7mS1zn0zXByv6NsoIG",
      "include_colab_link": true
    },
    "kernelspec": {
      "name": "python3",
      "display_name": "Python 3"
    },
    "language_info": {
      "name": "python"
    }
  },
  "cells": [
    {
      "cell_type": "markdown",
      "metadata": {
        "id": "view-in-github",
        "colab_type": "text"
      },
      "source": [
        "<a href=\"https://colab.research.google.com/github/bvdsb01/mLearning/blob/main/KFoldCrossValidation.ipynb\" target=\"_parent\"><img src=\"https://colab.research.google.com/assets/colab-badge.svg\" alt=\"Open In Colab\"/></a>"
      ]
    },
    {
      "cell_type": "markdown",
      "source": [
        "#Cross Validation is a technique to evaluate model's performance as there are many models to classify our dataset, e.g. Iris data classification was done using Logistic Regression, SVM, Random Forest, Decision Tree algorithm."
      ],
      "metadata": {
        "id": "nLUpol8ab4__"
      }
    },
    {
      "cell_type": "markdown",
      "source": [
        "sample kaise hai usse bahut variation aata hai, training ka sample kaisa hai usse model ke score vary karte hain."
      ],
      "metadata": {
        "id": "df-IkDOvdykP"
      }
    },
    {
      "cell_type": "code",
      "execution_count": null,
      "metadata": {
        "id": "xzIqbcN3bxDQ"
      },
      "outputs": [],
      "source": []
    },
    {
      "cell_type": "code",
      "source": [],
      "metadata": {
        "id": "Vq5VL9WmcYjj"
      },
      "execution_count": null,
      "outputs": []
    }
  ]
}