{
  "nbformat": 4,
  "nbformat_minor": 0,
  "metadata": {
    "colab": {
      "provenance": [],
      "toc_visible": true,
      "authorship_tag": "ABX9TyNzWkpdLgA39l6UZGxdN0ZE",
      "include_colab_link": true
    },
    "kernelspec": {
      "name": "python3",
      "display_name": "Python 3"
    },
    "language_info": {
      "name": "python"
    }
  },
  "cells": [
    {
      "cell_type": "markdown",
      "metadata": {
        "id": "view-in-github",
        "colab_type": "text"
      },
      "source": [
        "<a href=\"https://colab.research.google.com/github/bvdsb01/mLearning/blob/main/mnist.ipynb\" target=\"_parent\"><img src=\"https://colab.research.google.com/assets/colab-badge.svg\" alt=\"Open In Colab\"/></a>"
      ]
    },
    {
      "cell_type": "code",
      "source": [
        "import numpy as np\n",
        "import struct\n",
        "\n",
        "def read_idx(filename):\n",
        "    \"\"\"Read an IDX file and return it as a NumPy array\"\"\"\n",
        "    with open('/content/train-images.idx3-ubyte', 'rb') as f:\n",
        "        magic_number, num_items = struct.unpack(\">II\", f.read(8))\n",
        "\n",
        "        if magic_number == 2051:  # Image file\n",
        "            num_rows, num_cols = struct.unpack(\">II\", f.read(8))\n",
        "            data = np.frombuffer(f.read(), dtype=np.uint8).reshape(num_items, num_rows, num_cols)\n",
        "        elif magic_number == 2049:  # Label file\n",
        "            data = np.frombuffer(f.read(), dtype=np.uint8)\n",
        "        else:\n",
        "            raise ValueError(\"Invalid MNIST file!\")\n",
        "\n",
        "    return data\n"
      ],
      "metadata": {
        "id": "AwLEmkzLu3kT"
      },
      "execution_count": null,
      "outputs": []
    },
    {
      "cell_type": "code",
      "source": [
        "# Paths to your MNIST dataset\n",
        "train_images_path = \"path/to/train-images-idx3-ubyte\"\n",
        "train_labels_path = \"path/to/train-labels-idx1-ubyte\"\n",
        "test_images_path = \"path/to/t10k-images-idx3-ubyte\"\n",
        "test_labels_path = \"path/to/t10k-labels-idx1-ubyte\"\n",
        "\n",
        "# Load the data\n",
        "X_train = read_idx(train_images_path)\n",
        "y_train = read_idx(train_labels_path)\n",
        "X_test = read_idx(test_images_path)\n",
        "y_test = read_idx(test_labels_path)\n",
        "\n",
        "print(f\"Train images shape: {X_train.shape}\")  # (60000, 28, 28)\n",
        "print(f\"Train labels shape: {y_train.shape}\")  # (60000,)\n",
        "print(f\"Test images shape: {X_test.shape}\")    # (10000, 28, 28)\n",
        "print(f\"Test labels shape: {y_test.shape}\")    # (10000,)\n"
      ],
      "metadata": {
        "colab": {
          "base_uri": "https://localhost:8080/"
        },
        "id": "NsZ4Tik8wdn1",
        "outputId": "b8018aed-48bc-4c0c-f8f2-6e8b61777abe"
      },
      "execution_count": null,
      "outputs": [
        {
          "output_type": "stream",
          "name": "stdout",
          "text": [
            "Train images shape: (60000, 28, 28)\n",
            "Train labels shape: (60000, 28, 28)\n",
            "Test images shape: (60000, 28, 28)\n",
            "Test labels shape: (60000, 28, 28)\n"
          ]
        }
      ]
    },
    {
      "cell_type": "code",
      "source": [
        "import matplotlib.pyplot as plt\n",
        "\n",
        "# # Show a sample image\n",
        "# plt.imshow(X_train[0], cmap='gray')\n",
        "# plt.title(f\"Label: {y_train[0]}\")\n",
        "# plt.show()\n",
        "\n",
        "# import matplotlib.pyplot as plt\n",
        "\n",
        "# Set up a figure with smaller images\n",
        "fig, axes = plt.subplots(1, 20, figsize=(10, 2))  # 10 images in a single row\n",
        "\n",
        "for i in range(20):\n",
        "    axes[i].imshow(X_train[i], cmap='gray')\n",
        "    axes[i].axis(\"off\")  # Hide axes for cleaner visualization\n",
        "\n",
        "plt.show()\n"
      ],
      "metadata": {
        "colab": {
          "base_uri": "https://localhost:8080/",
          "height": 69
        },
        "id": "B8GRIm2Zx0zU",
        "outputId": "a5659c06-ed6a-4acb-ce6d-144f4055dbd0"
      },
      "execution_count": null,
      "outputs": [
        {
          "output_type": "display_data",
          "data": {
            "text/plain": [
              "<Figure size 1000x200 with 20 Axes>"
            ],
            "image/png": "[encoded data removed]"
          },
          "metadata": {}
        }
      ]
    },
    {
      "cell_type": "code",
      "source": [
        "def read_idx1(filename):\n",
        "    \"\"\"Read an IDX1 label file and return a NumPy array.\"\"\"\n",
        "    with open('/content/train-labels.idx1-ubyte', 'rb') as f:\n",
        "        magic, num_labels = struct.unpack(\">II\", f.read(8))\n",
        "        labels = np.frombuffer(f.read(), dtype=np.uint8)\n",
        "    return labels\n",
        "\n",
        "# Example usage\n",
        "train_labels = read_idx1(\"train-labels-idx1-ubyte\")\n",
        "print(train_labels.shape)  # (60000,)\n",
        "print(train_labels)\n"
      ],
      "metadata": {
        "colab": {
          "base_uri": "https://localhost:8080/"
        },
        "id": "z95OpJBHyA8S",
        "outputId": "1c562ee1-9efa-4cf8-9180-d88ae6059c23"
      },
      "execution_count": null,
      "outputs": [
        {
          "output_type": "stream",
          "name": "stdout",
          "text": [
            "(60000,)\n",
            "[5 0 4 ... 5 6 8]\n"
          ]
        }
      ]
    },
    {
      "cell_type": "code",
      "source": [
        "import numpy as np\n",
        "import struct\n",
        "import random\n",
        "\n",
        "def read_idx_images(filename):\n",
        "    \"\"\"Reads an IDX3 image file and returns a NumPy array of shape (num_images, 28, 28).\"\"\"\n",
        "    with open(filename, 'rb') as f:\n",
        "        magic, num_images, rows, cols = struct.unpack(\">IIII\", f.read(16))  # Read header\n",
        "        images = np.frombuffer(f.read(), dtype=np.uint8).reshape(num_images, rows, cols)  # Read images\n",
        "    return images\n",
        "\n",
        "def read_idx_labels(filename):\n",
        "    \"\"\"Reads an IDX1 label file and returns a NumPy array of shape (num_images,).\"\"\"\n",
        "    with open(filename, 'rb') as f:\n",
        "        magic, num_labels = struct.unpack(\">II\", f.read(8))  # Read header\n",
        "        labels = np.frombuffer(f.read(), dtype=np.uint8)  # Read labels\n",
        "    return labels\n",
        "\n",
        "def extract_samples(images, labels, classes=[0, 1, 2], num_samples=100):\n",
        "    \"\"\"\n",
        "    Extracts a fixed number of samples per class.\n",
        "\n",
        "    Parameters:\n",
        "    - images: NumPy array of shape (num_images, 28, 28)\n",
        "    - labels: NumPy array of shape (num_images,)\n",
        "    - classes: List of digit classes to filter (default: [0, 1, 2])\n",
        "    - num_samples: Number of images to extract per class\n",
        "\n",
        "    Returns:\n",
        "    - sampled_images: NumPy array of shape (num_samples * len(classes), 28, 28)\n",
        "    - sampled_labels: NumPy array of shape (num_samples * len(classes),)\n",
        "    \"\"\"\n",
        "    sampled_images = []\n",
        "    sampled_labels = []\n",
        "\n",
        "    for digit in classes:\n",
        "        indices = np.where(labels == digit)[0]  # Get all indices for this digit\n",
        "        selected_indices = np.random.choice(indices, num_samples, replace=False)  # Randomly select num_samples\n",
        "\n",
        "        sampled_images.append(images[selected_indices])  # Add images\n",
        "        sampled_labels.append(labels[selected_indices])  # Add labels\n",
        "\n",
        "    # Convert lists to NumPy arrays\n",
        "    sampled_images = np.vstack(sampled_images)\n",
        "    sampled_labels = np.concatenate(sampled_labels)\n",
        "\n",
        "    return sampled_images, sampled_labels\n",
        "\n",
        "# File paths for train and test data\n",
        "train_images_file = \"/content/train-images.idx3-ubyte\"  # Update with correct path\n",
        "train_labels_file = \"/content/train-labels.idx1-ubyte\"  # Update with correct path\n",
        "test_images_file = \"/content/t10k-images.idx3-ubyte\"  # Update with correct path\n",
        "test_labels_file = \"/content/t10k-labels.idx1-ubyte\"  # Update with correct path\n",
        "\n",
        "# Step 1: Read train and test images and labels\n",
        "X_train_full = read_idx_images(train_images_file)\n",
        "y_train_full = read_idx_labels(train_labels_file)\n",
        "X_test_full = read_idx_images(test_images_file)\n",
        "y_test_full = read_idx_labels(test_labels_file)\n",
        "\n",
        "# Step 2: Extract 100 samples per class (0, 1, 2) from both train and test sets\n",
        "X_train, y_train = extract_samples(X_train_full, y_train_full, classes=[0, 1, 2], num_samples=100)\n",
        "X_test, y_test = extract_samples(X_test_full, y_test_full, classes=[0, 1, 2], num_samples=100)\n",
        "\n",
        "# Output dataset shapes\n",
        "print(f\"Train X shape: {X_train.shape}\")  # Should be (300, 28, 28)\n",
        "print(f\"Train y shape: {y_train.shape}\")  # Should be (300,)\n",
        "print(f\"Test X shape: {X_test.shape}\")    # Should be (300, 28, 28)\n",
        "print(f\"Test y shape: {y_test.shape}\")    # Should be (300,)\")\n"
      ],
      "metadata": {
        "colab": {
          "base_uri": "https://localhost:8080/"
        },
        "id": "qfSRvWEd3t5i",
        "outputId": "7fb9c6b4-2214-4f81-fe64-2ed77714c764"
      },
      "execution_count": null,
      "outputs": [
        {
          "output_type": "stream",
          "name": "stdout",
          "text": [
            "Train X shape: (300, 28, 28)\n",
            "Train y shape: (300,)\n",
            "Test X shape: (300, 28, 28)\n",
            "Test y shape: (300,)\n"
          ]
        }
      ]
    },
    {
      "cell_type": "code",
      "source": [
        "plt.imshow(X_test[299], cmap='gray')\n",
        "plt.title(f\"Label: {y_test[299]}\")\n",
        "plt.show()"
      ],
      "metadata": {
        "colab": {
          "base_uri": "https://localhost:8080/",
          "height": 452
        },
        "id": "bcZubqvu4ZaT",
        "outputId": "9c393803-200b-4a89-c341-e33d33b7277d"
      },
      "execution_count": 54,
      "outputs": [
        {
          "output_type": "display_data",
          "data": {
            "text/plain": [
              "<Figure size 640x480 with 1 Axes>"
            ],
            "image/png": "[encoded data removed]"
          },
          "metadata": {}
        }
      ]
    },
    {
      "cell_type": "code",
      "source": [],
      "metadata": {
        "id": "zJh8l3przAKA"
      },
      "execution_count": null,
      "outputs": []
    }
  ]
}